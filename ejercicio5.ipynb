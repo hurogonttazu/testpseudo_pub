{
 "cells": [
  {
   "cell_type": "code",
   "execution_count": 1,
   "metadata": {},
   "outputs": [
    {
     "name": "stdout",
     "output_type": "stream",
     "text": [
      "{'a': 1, 'b': 2, 'c': 3}\n"
     ]
    }
   ],
   "source": [
    "def suma4(**kargs):\n",
    "    print(kargs)\n",
    "suma4(a=1,b=2,c=3)"
   ]
  },
  {
   "cell_type": "code",
   "execution_count": null,
   "metadata": {},
   "outputs": [],
   "source": [
    "def suma5(a,b=0,c=0):\n",
    "    sum = 0\n",
    "    if b:\n",
    "        sum = a+b\n",
    "    elif\n",
    "        sum += c\n",
    "    else\n",
    "        sum = a\n",
    "    "
   ]
  },
  {
   "cell_type": "code",
   "execution_count": 4,
   "metadata": {},
   "outputs": [
    {
     "name": "stdout",
     "output_type": "stream",
     "text": [
      "1 2\n",
      "continuar\n"
     ]
    }
   ],
   "source": [
    "def generadPDFYGUARDA(a,b):\n",
    "    print(a,b)\n",
    "    return True\n",
    "\n",
    "isOK = generadPDFYGUARDA(1,2)\n",
    "if isOK:\n",
    "    print('continuar')\n",
    "else:\n",
    "    print('parar')\n"
   ]
  },
  {
   "cell_type": "code",
   "execution_count": null,
   "metadata": {},
   "outputs": [
    {
     "name": "stdout",
     "output_type": "stream",
     "text": [
      "1156\n",
      "1156\n"
     ]
    }
   ],
   "source": [
    "def cuadrado(n):\n",
    "    return n**2\n",
    "#tenemos dos opciones para definir def o lambda, los lambdas son atomizadoras\n",
    "cuadroL = lambda n: n**2\n",
    "type(cuadroL)\n",
    "print(cuadrado(34))\n",
    "print(cuadroL(34))\n"
   ]
  },
  {
   "cell_type": "code",
   "execution_count": 10,
   "metadata": {},
   "outputs": [
    {
     "name": "stdout",
     "output_type": "stream",
     "text": [
      "2\n",
      "<function miFunc at 0x7f47d9b4daf0>\n",
      "4\n",
      "2\n",
      "<function <lambda> at 0x7f47d9b4d280>\n",
      "6\n"
     ]
    }
   ],
   "source": [
    "def funcEspecial(num,unaFuncion):\n",
    "    print(num)\n",
    "    print(unaFuncion)\n",
    "    res = unaFuncion(num)\n",
    "    print(res)\n",
    "\n",
    "unNum = 2\n",
    "\n",
    "def miFunc(val):\n",
    "    return val*2\n",
    "\n",
    "funcEspecial(unNum,miFunc)\n",
    "funcEspecial(unNum,lambda x:x*3)"
   ]
  },
  {
   "cell_type": "code",
   "execution_count": 11,
   "metadata": {},
   "outputs": [
    {
     "name": "stdout",
     "output_type": "stream",
     "text": [
      "True\n",
      "False\n"
     ]
    }
   ],
   "source": [
    "def hacer(palabra):\n",
    "    # Normalizar la palabra\n",
    "    palabra_normalizada = palabra.replace(\" \", \"\").lower()\n",
    "    # Verificar si es un palíndromo\n",
    "    return palabra_normalizada == palabra_normalizada[::-1]\n",
    "\n",
    "# Ejemplo de uso\n",
    "print(hacer(\"Anita lava la tina\"))  # Debería retornar True\n",
    "print(hacer(\"Hola\"))                 # Debería retornar False"
   ]
  },
  {
   "cell_type": "code",
   "execution_count": 12,
   "metadata": {},
   "outputs": [
    {
     "name": "stdout",
     "output_type": "stream",
     "text": [
      "3\n",
      "0\n"
     ]
    }
   ],
   "source": [
    "def contar_impares(numeros):\n",
    "    contador_impares = 0\n",
    "    for numero in numeros:\n",
    "        if numero % 2 != 0:  # Verifica si el número es impar\n",
    "            contador_impares += 1\n",
    "    return contador_impares\n",
    "\n",
    "# Ejemplo de uso\n",
    "print(contar_impares([1, 2, 3, 4, 5]))  # Debería retornar 3\n",
    "print(contar_impares([10, 12, 14]))      # Debería retornar 0"
   ]
  },
  {
   "cell_type": "code",
   "execution_count": 23,
   "metadata": {},
   "outputs": [
    {
     "name": "stdout",
     "output_type": "stream",
     "text": [
      "[{'nombre': 'peDro', 'direccion': 'Calle 1', 'edad': 20}, {'nombre': 'lUis', 'direccion': 'Calle 2', 'edad': 22}]\n"
     ]
    }
   ],
   "source": [
    "def transformar_nombres(alumnos):\n",
    "    for alumno in alumnos:\n",
    "        nombre = alumno['nombre']\n",
    "        longitud = len(nombre)\n",
    "        if longitud % 2 == 0:  # Si la longitud es par\n",
    "            indice = longitud // 2 - 1\n",
    "        else:  # Si la longitud es impar\n",
    "            indice = longitud // 2\n",
    "        \n",
    "        # Transformar el nombre\n",
    "        nuevo_nombre = nombre[:indice].lower()+nombre[indice].upper() + nombre[indice + 1:].lower()\n",
    "        alumno['nombre'] = nuevo_nombre\n",
    "    return alumnos\n",
    "\n",
    "# Ejemplo de uso\n",
    "alumnos = [\n",
    "    {\"nombre\": \"Pedro\", \"direccion\": \"Calle 1\", \"edad\": 20},\n",
    "    {\"nombre\": \"Luis\", \"direccion\": \"Calle 2\", \"edad\": 22}\n",
    "]\n",
    "\n",
    "resultado = transformar_nombres(alumnos)\n",
    "print(resultado)  # Debería mostrar los nombres transformados"
   ]
  },
  {
   "cell_type": "code",
   "execution_count": 17,
   "metadata": {},
   "outputs": [
    {
     "name": "stdout",
     "output_type": "stream",
     "text": [
      "[('Pedro', 'Calle 1'), ('Luis', 'Calle 2')]\n",
      "[('Pedro', 20), ('Luis', 22)]\n"
     ]
    }
   ],
   "source": [
    "def transformar_a_tuplas(alumnos):\n",
    "    lista_direccion = []\n",
    "    lista_edad = []\n",
    "    \n",
    "    for alumno in alumnos:\n",
    "        nombre = alumno['nombre']\n",
    "        direccion = alumno['direccion']\n",
    "        edad = alumno['edad']\n",
    "        \n",
    "        # Crear las tuplas y agregarlas a las listas\n",
    "        lista_direccion.append((nombre, direccion))\n",
    "        lista_edad.append((nombre, edad))\n",
    "    \n",
    "    return lista_direccion, lista_edad\n",
    "\n",
    "# Ejemplo de uso\n",
    "alumnos = [\n",
    "    {\"nombre\": \"Pedro\", \"direccion\": \"Calle 1\", \"edad\": 20},\n",
    "    {\"nombre\": \"Luis\", \"direccion\": \"Calle 2\", \"edad\": 22}\n",
    "]\n",
    "\n",
    "lista_direccion, lista_edad = transformar_a_tuplas(alumnos)\n",
    "print(lista_direccion)  # Debería mostrar: [('Pedro', 'Calle 1'), ('Luis', 'Calle 2')]\n",
    "print(lista_edad)       # Debería mostrar: [('Pedro', 20), ('Luis', 22)]"
   ]
  }
 ],
 "metadata": {
  "kernelspec": {
   "display_name": "Python 3",
   "language": "python",
   "name": "python3"
  },
  "language_info": {
   "codemirror_mode": {
    "name": "ipython",
    "version": 3
   },
   "file_extension": ".py",
   "mimetype": "text/x-python",
   "name": "python",
   "nbconvert_exporter": "python",
   "pygments_lexer": "ipython3",
   "version": "3.9.5"
  }
 },
 "nbformat": 4,
 "nbformat_minor": 2
}
