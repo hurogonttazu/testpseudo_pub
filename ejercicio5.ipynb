{
 "cells": [
  {
   "cell_type": "code",
   "execution_count": 1,
   "metadata": {},
   "outputs": [
    {
     "name": "stdout",
     "output_type": "stream",
     "text": [
      "{'a': 1, 'b': 2, 'c': 3}\n"
     ]
    }
   ],
   "source": [
    "def suma4(**kargs):\n",
    "    print(kargs)\n",
    "suma4(a=1,b=2,c=3)"
   ]
  },
  {
   "cell_type": "code",
   "execution_count": null,
   "metadata": {},
   "outputs": [],
   "source": [
    "def suma5(a,b=0,c=0):\n",
    "    sum = 0\n",
    "    if b:\n",
    "        sum = a+b\n",
    "    elif\n",
    "        sum += c\n",
    "    else\n",
    "        sum = a\n",
    "    "
   ]
  },
  {
   "cell_type": "code",
   "execution_count": 4,
   "metadata": {},
   "outputs": [
    {
     "name": "stdout",
     "output_type": "stream",
     "text": [
      "1 2\n",
      "continuar\n"
     ]
    }
   ],
   "source": [
    "def generadPDFYGUARDA(a,b):\n",
    "    print(a,b)\n",
    "    return True\n",
    "\n",
    "isOK = generadPDFYGUARDA(1,2)\n",
    "if isOK:\n",
    "    print('continuar')\n",
    "else:\n",
    "    print('parar')\n"
   ]
  },
  {
   "cell_type": "code",
   "execution_count": null,
   "metadata": {},
   "outputs": [
    {
     "name": "stdout",
     "output_type": "stream",
     "text": [
      "1156\n",
      "1156\n"
     ]
    }
   ],
   "source": [
    "def cuadrado(n):\n",
    "    return n**2\n",
    "#tenemos dos opciones para definir def o lambda, los lambdas son atomizadoras\n",
    "cuadroL = lambda n: n**2\n",
    "type(cuadroL)\n",
    "print(cuadrado(34))\n",
    "print(cuadroL(34))\n"
   ]
  },
  {
   "cell_type": "code",
   "execution_count": 10,
   "metadata": {},
   "outputs": [
    {
     "name": "stdout",
     "output_type": "stream",
     "text": [
      "2\n",
      "<function miFunc at 0x7f47d9b4daf0>\n",
      "4\n",
      "2\n",
      "<function <lambda> at 0x7f47d9b4d280>\n",
      "6\n"
     ]
    }
   ],
   "source": [
    "def funcEspecial(num,unaFuncion):\n",
    "    print(num)\n",
    "    print(unaFuncion)\n",
    "    res = unaFuncion(num)\n",
    "    print(res)\n",
    "\n",
    "unNum = 2\n",
    "\n",
    "def miFunc(val):\n",
    "    return val*2\n",
    "\n",
    "funcEspecial(unNum,miFunc)\n",
    "funcEspecial(unNum,lambda x:x*3)"
   ]
  },
  {
   "cell_type": "code",
   "execution_count": 11,
   "metadata": {},
   "outputs": [
    {
     "name": "stdout",
     "output_type": "stream",
     "text": [
      "True\n",
      "False\n"
     ]
    }
   ],
   "source": [
    "def hacer(palabra):\n",
    "    # Normalizar la palabra\n",
    "    palabra_normalizada = palabra.replace(\" \", \"\").lower()\n",
    "    # Verificar si es un palíndromo\n",
    "    return palabra_normalizada == palabra_normalizada[::-1]\n",
    "\n",
    "# Ejemplo de uso\n",
    "print(hacer(\"Anita lava la tina\"))  # Debería retornar True\n",
    "print(hacer(\"Hola\"))                 # Debería retornar False"
   ]
  },
  {
   "cell_type": "code",
   "execution_count": 26,
   "metadata": {},
   "outputs": [
    {
     "name": "stdout",
     "output_type": "stream",
     "text": [
      "3\n",
      "1\n"
     ]
    }
   ],
   "source": [
    "def contar_impares(numeros):\n",
    "    contador_impares = 0\n",
    "    for numero in numeros:\n",
    "        if numero % 2 != 0:  # Verifica si el número es impar\n",
    "            contador_impares += 1\n",
    "    return contador_impares\n",
    "\n",
    "# Ejemplo de uso\n",
    "print(contar_impares([1, 2, 3, 4, 5]))  # Debería retornar 3\n",
    "print(contar_impares([10, 12, 14,15]))      # Debería retornar 0"
   ]
  },
  {
   "cell_type": "code",
   "execution_count": 23,
   "metadata": {},
   "outputs": [
    {
     "name": "stdout",
     "output_type": "stream",
     "text": [
      "[{'nombre': 'peDro', 'direccion': 'Calle 1', 'edad': 20}, {'nombre': 'lUis', 'direccion': 'Calle 2', 'edad': 22}]\n"
     ]
    }
   ],
   "source": [
    "def transformar_nombres(alumnos):\n",
    "    for alumno in alumnos:\n",
    "        nombre = alumno['nombre']\n",
    "        longitud = len(nombre)\n",
    "        if longitud % 2 == 0:  # Si la longitud es par\n",
    "            indice = longitud // 2 - 1\n",
    "        else:  # Si la longitud es impar\n",
    "            indice = longitud // 2\n",
    "        \n",
    "        # Transformar el nombre\n",
    "        nuevo_nombre = nombre[:indice].lower()+nombre[indice].upper() + nombre[indice + 1:].lower()\n",
    "        alumno['nombre'] = nuevo_nombre\n",
    "    return alumnos\n",
    "\n",
    "# Ejemplo de uso\n",
    "alumnos = [\n",
    "    {\"nombre\": \"Pedro\", \"direccion\": \"Calle 1\", \"edad\": 20},\n",
    "    {\"nombre\": \"Luis\", \"direccion\": \"Calle 2\", \"edad\": 22}\n",
    "]\n",
    "\n",
    "resultado = transformar_nombres(alumnos)\n",
    "print(resultado)  # Debería mostrar los nombres transformados"
   ]
  },
  {
   "cell_type": "code",
   "execution_count": null,
   "metadata": {},
   "outputs": [
    {
     "name": "stdout",
     "output_type": "stream",
     "text": [
      "[('Pedro', 'Calle 1'), ('Luis', 'Calle 2')]\n",
      "[('Pedro', 20), ('Luis', 22)]\n"
     ]
    }
   ],
   "source": [
    "def transformar_a_tuplas(alumnos):\n",
    "    lista_direccion = []\n",
    "    lista_edad = []\n",
    "    \n",
    "    for alumno in alumnos:\n",
    "        nombre = alumno['nombre']\n",
    "        direccion = alumno['direccion']\n",
    "        edad = alumno['edad']\n",
    "        \n",
    "        # Crear las tuplas y agregarlas a las listas\n",
    "        lista_direccion.append((nombre, direccion))\n",
    "        lista_edad.append((nombre, edad))\n",
    "    \n",
    "    return lista_direccion, lista_edad\n",
    "\n",
    "# Ejemplo de uso\n",
    "alumnos = [\n",
    "    {\"nombre\": \"Pedro\", \"direccion\": \"Calle 1\", \"edad\": 20},\n",
    "    {\"nombre\": \"Luis\", \"direccion\": \"Calle 2\", \"edad\": 22}\n",
    "]\n",
    "\n",
    "lista_direccion, lista_edad = transformar_a_tuplas(alumnos)\n",
    "print(lista_direccion)  \n",
    "print(lista_edad)       "
   ]
  },
  {
   "cell_type": "code",
   "execution_count": 25,
   "metadata": {},
   "outputs": [
    {
     "data": {
      "text/plain": [
       "[1, 8, 27, 64, 125]"
      ]
     },
     "execution_count": 25,
     "metadata": {},
     "output_type": "execute_result"
    }
   ],
   "source": [
    "lista = [1,2,3,4,5]\n",
    "result = map(lambda x:x**3,lista)\n",
    "list(result)"
   ]
  },
  {
   "cell_type": "code",
   "execution_count": 7,
   "metadata": {},
   "outputs": [
    {
     "name": "stdout",
     "output_type": "stream",
     "text": [
      "[1505, 1540, 1575, 1610, 1645, 1680, 1715, 1750, 1785, 1820, 1855, 1890, 1925, 1960, 1995, 2030, 2065, 2100, 2135, 2170, 2205, 2240, 2275, 2310, 2345, 2380, 2415, 2450, 2485, 2520, 2555, 2590, 2625, 2660, 2695]\n"
     ]
    }
   ],
   "source": [
    "def encontrar_numeros():\n",
    "    numero = []\n",
    "    for i in range(1500, 2701):\n",
    "        if i % 7 == 0 and i % 5 == 0:\n",
    "            numero.append(i)\n",
    "    return numero\n",
    "# Llamada a la función y mostrar los resultados\n",
    "resultados = encontrar_numeros()\n",
    "print(resultados)"
   ]
  },
  {
   "cell_type": "code",
   "execution_count": 8,
   "metadata": {},
   "outputs": [
    {
     "name": "stdout",
     "output_type": "stream",
     "text": [
      "60 °C es 140.0 en grados Fahrenheit\n",
      "45 °F es 7.2 en grados Celsius\n"
     ]
    }
   ],
   "source": [
    "def celsius_a_fahrenheit(c):\n",
    "    f = (c * 9/5) + 32\n",
    "    return f\n",
    "def fahrenheit_a_celsius(f):\n",
    "    c = (f - 32) * 5/9\n",
    "    return c\n",
    "# Ejemplos de uso\n",
    "celsius = 60\n",
    "fahrenheit = celsius_a_fahrenheit(celsius)\n",
    "print(f\"{celsius} °C es {fahrenheit} en grados Fahrenheit\")\n",
    "fahrenheit = 45\n",
    "celsius = fahrenheit_a_celsius(fahrenheit)\n",
    "print(f\"{fahrenheit} °F es {celsius:.1f} en grados Celsius\")"
   ]
  },
  {
   "cell_type": "code",
   "execution_count": 11,
   "metadata": {},
   "outputs": [
    {
     "name": "stdout",
     "output_type": "stream",
     "text": [
      "Inténtalo de nuevo.\n",
      "Inténtalo de nuevo.\n",
      "Inténtalo de nuevo.\n",
      "Inténtalo de nuevo.\n",
      "Inténtalo de nuevo.\n",
      "Inténtalo de nuevo.\n",
      "¡Bien adivinado!\n"
     ]
    }
   ],
   "source": [
    "import random\n",
    "def adivinar_numero():\n",
    "    numero_secreto = random.randint(1, 9)\n",
    "    adivinado = False\n",
    "    while not adivinado:\n",
    "        intento = int(input(\"Adivina un número entre 1 y 9: \"))\n",
    "        if intento == numero_secreto:\n",
    "            print(\"¡Bien adivinado!\")\n",
    "            adivinado = True\n",
    "        else:\n",
    "            print(\"Inténtalo de nuevo.\")\n",
    "# Llamada a la función\n",
    "adivinar_numero()"
   ]
  },
  {
   "cell_type": "code",
   "execution_count": 13,
   "metadata": {},
   "outputs": [
    {
     "name": "stdout",
     "output_type": "stream",
     "text": [
      "* \n",
      "* * \n",
      "* * * \n",
      "* * * * \n",
      "* * * * * \n",
      "* * * * \n",
      "* * * \n",
      "* * \n",
      "* \n"
     ]
    }
   ],
   "source": [
    "def construir_patron():\n",
    "    n = 5 # Número de filas en la parte superior del patrón\n",
    "    # Parte superior del patrón\n",
    "    for i in range(1, n + 1):\n",
    "        for j in range(i):\n",
    "            print(\"*\", end=\" \")\n",
    "        print()\n",
    "# Parte inferior del patrón\n",
    "    for i in range(n - 1, 0, -1):\n",
    "        for j in range(i):\n",
    "            print(\"*\", end=\" \")\n",
    "        print()\n",
    "# Llamada a la función\n",
    "construir_patron()"
   ]
  },
  {
   "cell_type": "code",
   "execution_count": 14,
   "metadata": {},
   "outputs": [
    {
     "name": "stdout",
     "output_type": "stream",
     "text": [
      "La palabra invertida es: aloh\n"
     ]
    }
   ],
   "source": [
    "def invertir_palabra():\n",
    "    palabra = input(\"Introduce una palabra: \")\n",
    "    palabra_invertida = palabra[::-1]\n",
    "    return palabra_invertida\n",
    "# Llamada a la función y mostrar el resultado\n",
    "resultado = invertir_palabra()\n",
    "print(f\"La palabra invertida es: {resultado}\")"
   ]
  },
  {
   "cell_type": "code",
   "execution_count": 15,
   "metadata": {},
   "outputs": [
    {
     "name": "stdout",
     "output_type": "stream",
     "text": [
      "Número de números pares: 4\n",
      "Número de números impares: 5\n"
     ]
    }
   ],
   "source": [
    "def contar_pares_impares(numeros):\n",
    "    pares = 0\n",
    "    impares = 0\n",
    "    for numero in numeros:\n",
    "        if numero % 2 == 0:\n",
    "            pares += 1\n",
    "        else:\n",
    "            impares += 1\n",
    "    return pares, impares\n",
    "# Ejemplo de uso\n",
    "numeros = (1, 2, 3, 4, 5, 6, 7, 8, 9)\n",
    "pares, impares = contar_pares_impares(numeros)\n",
    "print(f\"Número de números pares: {pares}\")\n",
    "print(f\"Número de números impares: {impares}\")"
   ]
  },
  {
   "cell_type": "code",
   "execution_count": 18,
   "metadata": {},
   "outputs": [
    {
     "name": "stdout",
     "output_type": "stream",
     "text": [
      "Elemento: 1452, Tipo: <class 'int'>\n",
      "Elemento: 11.23, Tipo: <class 'float'>\n",
      "Elemento: (1+2j), Tipo: <class 'complex'>\n",
      "Elemento: True, Tipo: <class 'bool'>\n",
      "Elemento: w3resource, Tipo: <class 'str'>\n",
      "Elemento: (0, -1), Tipo: <class 'tuple'>\n",
      "Elemento: [5, 12], Tipo: <class 'list'>\n",
      "Elemento: {'class': 'V', 'section': 'A'}, Tipo: <class 'dict'>\n"
     ]
    }
   ],
   "source": [
    "def imprimir_tipos(datalist):\n",
    "    for item in datalist:\n",
    "        print(f\"Elemento: {item}, Tipo: {type(item)}\")\n",
    "# Lista de ejemplo\n",
    "datalist = [1452, 11.23, 1+2j, True, 'w3resource', (0, -1), [5, 12], {\"class\":'V',\n",
    "\"section\":'A'}]\n",
    "# Llamada a la función\n",
    "imprimir_tipos(datalist)"
   ]
  },
  {
   "cell_type": "code",
   "execution_count": 19,
   "metadata": {},
   "outputs": [
    {
     "name": "stdout",
     "output_type": "stream",
     "text": [
      "0 1 2 4 5 "
     ]
    }
   ],
   "source": [
    "def imprimir_numeros():\n",
    "    for i in range(7):\n",
    "        if i == 3 or i == 6:\n",
    "            continue\n",
    "        print(i, end=\" \")\n",
    "# Llamada a la función\n",
    "imprimir_numeros()"
   ]
  },
  {
   "cell_type": "code",
   "execution_count": 26,
   "metadata": {},
   "outputs": [
    {
     "name": "stdout",
     "output_type": "stream",
     "text": [
      "1 1 2 3 5 8 13 21 34 "
     ]
    }
   ],
   "source": [
    "def fibonacci_hasta_50():\n",
    "    a, b = 0, 1\n",
    "    while b <= 50:\n",
    "        if b != 0:\n",
    "            print(b, end=\" \")\n",
    "        a, b = b, a + b\n",
    "# Llamada a la función\n",
    "fibonacci_hasta_50()"
   ]
  },
  {
   "cell_type": "code",
   "execution_count": 27,
   "metadata": {},
   "outputs": [
    {
     "name": "stdout",
     "output_type": "stream",
     "text": [
      "1\n",
      "2\n",
      "Fizz\n",
      "4\n",
      "Buzz\n",
      "Fizz\n",
      "7\n",
      "8\n",
      "Fizz\n",
      "Buzz\n",
      "11\n",
      "Fizz\n",
      "13\n",
      "14\n",
      "FizzBuzz\n",
      "16\n",
      "17\n",
      "Fizz\n",
      "19\n",
      "Buzz\n",
      "Fizz\n",
      "22\n",
      "23\n",
      "Fizz\n",
      "Buzz\n",
      "26\n",
      "Fizz\n",
      "28\n",
      "29\n",
      "FizzBuzz\n",
      "31\n",
      "32\n",
      "Fizz\n",
      "34\n",
      "Buzz\n",
      "Fizz\n",
      "37\n",
      "38\n",
      "Fizz\n",
      "Buzz\n",
      "41\n",
      "Fizz\n",
      "43\n",
      "44\n",
      "FizzBuzz\n",
      "46\n",
      "47\n",
      "Fizz\n",
      "49\n",
      "Buzz\n"
     ]
    }
   ],
   "source": [
    "def fizzbuzz():\n",
    "    for i in range(1, 51):\n",
    "        if i % 3 == 0 and i % 5 == 0:\n",
    "            print(\"FizzBuzz\")\n",
    "        elif i % 3 == 0:\n",
    "            print(\"Fizz\")\n",
    "        elif i % 5 == 0:\n",
    "            print(\"Buzz\")\n",
    "        else:\n",
    "            print(i)\n",
    "# Llamada a la función\n",
    "fizzbuzz()"
   ]
  }
 ],
 "metadata": {
  "kernelspec": {
   "display_name": "Python 3",
   "language": "python",
   "name": "python3"
  },
  "language_info": {
   "codemirror_mode": {
    "name": "ipython",
    "version": 3
   },
   "file_extension": ".py",
   "mimetype": "text/x-python",
   "name": "python",
   "nbconvert_exporter": "python",
   "pygments_lexer": "ipython3",
   "version": "3.9.5"
  }
 },
 "nbformat": 4,
 "nbformat_minor": 2
}
