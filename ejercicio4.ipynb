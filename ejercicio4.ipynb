{
 "cells": [
  {
   "cell_type": "code",
   "execution_count": 5,
   "metadata": {},
   "outputs": [
    {
     "name": "stdout",
     "output_type": "stream",
     "text": [
      "hola mundo\n",
      "hola Anna\n",
      "hola rick\n",
      "Estas son unas palabras\n"
     ]
    }
   ],
   "source": [
    "def imprimetexto(texto):\n",
    "    print(texto)\n",
    "palabras = 'Estas son unas palabras'\n",
    "imprimetexto('hola mundo')\n",
    "imprimetexto('hola Anna')\n",
    "imprimetexto('hola rick')\n",
    "imprimetexto(palabras)\n"
   ]
  },
  {
   "cell_type": "code",
   "execution_count": null,
   "metadata": {},
   "outputs": [
    {
     "name": "stdout",
     "output_type": "stream",
     "text": [
      "esto son unas palabras!!\n",
      "22\n",
      "esto son unas palabras\n"
     ]
    }
   ],
   "source": [
    "texto='esto son unas palabras'\n",
    "un_numero =22\n",
    "def imprimetexto(texto):\n",
    "    texto= texto+'!!'\n",
    "    print(texto)\n",
    "    un_numero +=10\n",
    "    print(un_numero)\n",
    "imprimetexto(texto)\n",
    "print(texto)\n",
    "\n"
   ]
  },
  {
   "cell_type": "code",
   "execution_count": null,
   "metadata": {},
   "outputs": [
    {
     "name": "stdout",
     "output_type": "stream",
     "text": [
      "60.0\n",
      "informe con: 60.0\n",
      "350.0\n",
      "informe con: 350.0\n",
      "590.0\n",
      "informe con: 590.0\n",
      "220.0\n",
      "informe con: 220.0\n"
     ]
    }
   ],
   "source": [
    "def calculo_comision(ventas,porc):\n",
    "    #comision = sum(ventas)*porc/100\n",
    "    suma =0\n",
    "    for venta in ventas:\n",
    "        suma += venta\n",
    "    comision =suma*porc/100\n",
    "    print(comision)\n",
    "    return comision\n",
    "\n",
    "ventas_reales = [100,200,300]\n",
    "porcentaje = 10\n",
    "\n",
    "valor_comision = calculo_comision(ventas_reales,porcentaje)\n",
    "print('informe con:',valor_comision)\n",
    "\n",
    "todas_las_ventas = [[100,3000,400],[200,5000,700],[500,1000,700]]\n",
    "\n",
    "for unas_ventas in todas_las_ventas:\n",
    "    valor_comision = calculo_comision(unas_ventas,porcentaje)\n",
    "    print('informe con:',valor_comision)"
   ]
  }
 ],
 "metadata": {
  "kernelspec": {
   "display_name": "Python 3",
   "language": "python",
   "name": "python3"
  },
  "language_info": {
   "codemirror_mode": {
    "name": "ipython",
    "version": 3
   },
   "file_extension": ".py",
   "mimetype": "text/x-python",
   "name": "python",
   "nbconvert_exporter": "python",
   "pygments_lexer": "ipython3",
   "version": "3.9.5"
  }
 },
 "nbformat": 4,
 "nbformat_minor": 2
}
