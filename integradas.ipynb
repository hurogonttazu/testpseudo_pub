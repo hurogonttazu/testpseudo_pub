{
 "cells": [
  {
   "cell_type": "code",
   "execution_count": null,
   "metadata": {},
   "outputs": [
    {
     "name": "stdout",
     "output_type": "stream",
     "text": [
      "(1, 2, 3)\n",
      "('a', 'b', 'c')\n"
     ]
    }
   ],
   "source": [
    "ks = [1, 2, 3, 4]\n",
    "ts = ['a', 'b', 'c']\n",
    "l1 = list(zip(ks, ts))\n",
    "l1\n",
    "a, b = zip(*l1)\n",
    "print(a)\n",
    "print(b)"
   ]
  },
  {
   "cell_type": "code",
   "execution_count": null,
   "metadata": {},
   "outputs": [
    {
     "data": {
      "text/plain": [
       "[1, 2, 5, 6, 7, 9]"
      ]
     },
     "execution_count": 11,
     "metadata": {},
     "output_type": "execute_result"
    }
   ],
   "source": [
    "m = [1, 2, 6, 5, 9, 7]\n",
    "sorted(m)"
   ]
  },
  {
   "cell_type": "code",
   "execution_count": null,
   "metadata": {},
   "outputs": [
    {
     "data": {
      "text/plain": [
       "['a', 'b', 'c']"
      ]
     },
     "execution_count": 12,
     "metadata": {},
     "output_type": "execute_result"
    }
   ],
   "source": [
    "dias = {\"c\": 3, \"a\": 1, \"b\": 2}\n",
    "sorted(dias)"
   ]
  },
  {
   "cell_type": "code",
   "execution_count": null,
   "metadata": {},
   "outputs": [
    {
     "data": {
      "text/plain": [
       "<zip at 0x7f2779a17600>"
      ]
     },
     "execution_count": 17,
     "metadata": {},
     "output_type": "execute_result"
    }
   ],
   "source": [
    "semanas = {\"lunes\": 4, \"martes\": 5, \"miercoles\": 6}\n",
    "zip(dias, semanas)"
   ]
  },
  {
   "cell_type": "code",
   "execution_count": null,
   "metadata": {},
   "outputs": [],
   "source": []
  },
  {
   "cell_type": "code",
   "execution_count": null,
   "metadata": {},
   "outputs": [
    {
     "name": "stdout",
     "output_type": "stream",
     "text": [
      "hola mundo\n"
     ]
    }
   ],
   "source": [
    "print(\"hola mundo\")"
   ]
  },
  {
   "cell_type": "code",
   "execution_count": 23,
   "metadata": {},
   "outputs": [
    {
     "name": "stdout",
     "output_type": "stream",
     "text": [
      "es mayor que 5\n",
      "hola esta en la frase\n"
     ]
    }
   ],
   "source": [
    "n = 6\n",
    "if n >= 2 and n < 5:\n",
    "    print(\"si es >=2\")\n",
    "# alt+shift+f nos da formato a los espacios\n",
    "elif n>=5 and n < 7:\n",
    "    print(\"es mayor que 5\")\n",
    "elif n>7:\n",
    "    print(\"es mayor que 7\")\n",
    "else:\n",
    "    print(\"es menor que dos\")\n",
    "\n",
    "n=n*2\n",
    "txt= \"hola\"\n",
    "if txt in \"hola mundo\":\n",
    "    print(\"hola esta en la frase\")\n"
   ]
  },
  {
   "cell_type": "code",
   "execution_count": 3,
   "metadata": {},
   "outputs": [
    {
     "name": "stdout",
     "output_type": "stream",
     "text": [
      "a 1\n",
      "menor que 2\n",
      "b 2\n",
      "no sigo es mayor que 1\n",
      "z 0\n",
      "menor que 2\n",
      "salgo!!\n"
     ]
    }
   ],
   "source": [
    "l1 =[1,2,3,4]\n",
    "t1 =(1,2,3,4)\n",
    "d1={'a':1,'b':2,'z':0,'c':3,'d':4}\n",
    "for key,val in d1.items():\n",
    "    print(key,val)\n",
    "    if val > 1:\n",
    "        print('no sigo es mayor que 1')\n",
    "        continue\n",
    "    else:\n",
    "        print('menor que 2')\n",
    "    if val == 0:\n",
    "        print(\"salgo!!\")\n",
    "        break"
   ]
  },
  {
   "cell_type": "code",
   "execution_count": 11,
   "metadata": {},
   "outputs": [
    {
     "name": "stdout",
     "output_type": "stream",
     "text": [
      "estoy en while...\n",
      "0\n",
      "estoy en while...\n",
      "1\n",
      "estoy en while...\n",
      "2\n",
      "estoy en while...\n",
      "3\n",
      "estoy en while...\n",
      "4\n",
      "estoy en while...\n",
      "5\n",
      "estoy en while...\n",
      "6\n",
      "estoy en while...\n",
      "7\n",
      "estoy en while...\n",
      "8\n",
      "estoy en while...\n",
      "9\n"
     ]
    }
   ],
   "source": [
    "contador = 0\n",
    "nsec = 10\n",
    "while contador < 10:\n",
    "    print('estoy en while...')\n",
    "    print(contador)\n",
    "    contador +=1\n",
    "    nsec = nsec-1\n",
    "    if not nsec:\n",
    "        break # con esto tenemos conador = contador+1"
   ]
  },
  {
   "cell_type": "code",
   "execution_count": 16,
   "metadata": {},
   "outputs": [
    {
     "name": "stdout",
     "output_type": "stream",
     "text": [
      "1\n",
      "2\n",
      "3\n",
      "4\n",
      "5\n"
     ]
    }
   ],
   "source": [
    "l1=[1,2,3,4,5]\n",
    "cont = 0\n",
    "while cont < len(l1):\n",
    "    print(l1[cont])\n",
    "    cont +=1\n",
    "#ctrl+d seleccionamos todo lo que queremos cambiar tb si hacemos boton derecho y seleccionamos refactor"
   ]
  },
  {
   "cell_type": "code",
   "execution_count": 24,
   "metadata": {},
   "outputs": [
    {
     "name": "stdout",
     "output_type": "stream",
     "text": [
      "a 1\n",
      "menor que 2\n",
      "b 2\n",
      "no sigo es mayor que 1\n",
      "z 0\n",
      "menor que 2\n",
      "salgo!!\n"
     ]
    }
   ],
   "source": [
    "d1={'a':1,'b':2,'z':0,'c':3,'d':4}\n",
    "l1=list(d1.items())\n",
    "idx = 0\n",
    "while idx < len(l1):\n",
    "    key,val = l1[idx]\n",
    "    idx +=1\n",
    "    print(key,val)\n",
    "    if val > 1:\n",
    "        print('no sigo es mayor que 1')\n",
    "        continue\n",
    "    else:\n",
    "        print('menor que 2')\n",
    "    if val == 0:\n",
    "        print(\"salgo!!\")\n",
    "        break"
   ]
  },
  {
   "cell_type": "code",
   "execution_count": null,
   "metadata": {},
   "outputs": [
    {
     "name": "stdout",
     "output_type": "stream",
     "text": [
      "has escogido 3\n"
     ]
    }
   ],
   "source": [
    "#while se suele usar para procesos asincronos\n",
    "opcion=0\n",
    "opcion = input('escoge entre 1,2,3,4')\n",
    "print('has escogido', opcion)\n",
    "\n",
    "\n"
   ]
  },
  {
   "cell_type": "code",
   "execution_count": null,
   "metadata": {},
   "outputs": [
    {
     "name": "stdout",
     "output_type": "stream",
     "text": [
      "('a', 1)\n",
      "a\n",
      "1\n",
      "('b', 2)\n",
      "b\n",
      "2\n",
      "('z', 0)\n",
      "z\n",
      "0\n",
      "('c', 3)\n",
      "c\n",
      "3\n",
      "('d', 4)\n",
      "d\n",
      "4\n"
     ]
    }
   ],
   "source": [
    "#esto es un ejemplo de bucle anidado\n",
    "d1={'a':1,'b':2,'z':0,'c':3,'d':4}\n",
    "l1=list(d1.items())\n",
    "for file in l1:\n",
    "    print(file)\n",
    "    for col in file:\n",
    "        print(col)"
   ]
  }
 ],
 "metadata": {
  "kernelspec": {
   "display_name": "Python 3",
   "language": "python",
   "name": "python3"
  },
  "language_info": {
   "codemirror_mode": {
    "name": "ipython",
    "version": 3
   },
   "file_extension": ".py",
   "mimetype": "text/x-python",
   "name": "python",
   "nbconvert_exporter": "python",
   "pygments_lexer": "ipython3",
   "version": "3.9.5"
  }
 },
 "nbformat": 4,
 "nbformat_minor": 2
}
