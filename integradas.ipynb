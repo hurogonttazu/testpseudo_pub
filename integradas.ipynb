{
 "cells": [
  {
   "cell_type": "code",
   "execution_count": null,
   "metadata": {},
   "outputs": [
    {
     "name": "stdout",
     "output_type": "stream",
     "text": [
      "(1, 2, 3)\n",
      "('a', 'b', 'c')\n"
     ]
    }
   ],
   "source": [
    "ks = [1, 2, 3, 4]\n",
    "ts = ['a', 'b', 'c']\n",
    "l1 = list(zip(ks, ts))\n",
    "l1\n",
    "a, b = zip(*l1)\n",
    "print(a)\n",
    "print(b)"
   ]
  },
  {
   "cell_type": "code",
   "execution_count": null,
   "metadata": {},
   "outputs": [
    {
     "data": {
      "text/plain": [
       "[1, 2, 5, 6, 7, 9]"
      ]
     },
     "execution_count": 11,
     "metadata": {},
     "output_type": "execute_result"
    }
   ],
   "source": [
    "m = [1, 2, 6, 5, 9, 7]\n",
    "sorted(m)"
   ]
  },
  {
   "cell_type": "code",
   "execution_count": null,
   "metadata": {},
   "outputs": [
    {
     "data": {
      "text/plain": [
       "['a', 'b', 'c']"
      ]
     },
     "execution_count": 12,
     "metadata": {},
     "output_type": "execute_result"
    }
   ],
   "source": [
    "dias = {\"c\": 3, \"a\": 1, \"b\": 2}\n",
    "sorted(dias)"
   ]
  },
  {
   "cell_type": "code",
   "execution_count": null,
   "metadata": {},
   "outputs": [
    {
     "data": {
      "text/plain": [
       "<zip at 0x7f2779a17600>"
      ]
     },
     "execution_count": 17,
     "metadata": {},
     "output_type": "execute_result"
    }
   ],
   "source": [
    "semanas = {\"lunes\": 4, \"martes\": 5, \"miercoles\": 6}\n",
    "zip(dias, semanas)"
   ]
  },
  {
   "cell_type": "code",
   "execution_count": null,
   "metadata": {},
   "outputs": [],
   "source": []
  },
  {
   "cell_type": "code",
   "execution_count": null,
   "metadata": {},
   "outputs": [
    {
     "name": "stdout",
     "output_type": "stream",
     "text": [
      "hola mundo\n"
     ]
    }
   ],
   "source": [
    "print(\"hola mundo\")"
   ]
  },
  {
   "cell_type": "code",
   "execution_count": 23,
   "metadata": {},
   "outputs": [
    {
     "name": "stdout",
     "output_type": "stream",
     "text": [
      "es mayor que 5\n",
      "hola esta en la frase\n"
     ]
    }
   ],
   "source": [
    "n = 6\n",
    "if n >= 2 and n < 5:\n",
    "    print(\"si es >=2\")\n",
    "# alt+shift+f nos da formato a los espacios\n",
    "elif n>=5 and n < 7:\n",
    "    print(\"es mayor que 5\")\n",
    "elif n>7:\n",
    "    print(\"es mayor que 7\")\n",
    "else:\n",
    "    print(\"es menor que dos\")\n",
    "\n",
    "n=n*2\n",
    "txt= \"hola\"\n",
    "if txt in \"hola mundo\":\n",
    "    print(\"hola esta en la frase\")\n"
   ]
  },
  {
   "cell_type": "code",
   "execution_count": 3,
   "metadata": {},
   "outputs": [
    {
     "name": "stdout",
     "output_type": "stream",
     "text": [
      "a 1\n",
      "menor que 2\n",
      "b 2\n",
      "no sigo es mayor que 1\n",
      "z 0\n",
      "menor que 2\n",
      "salgo!!\n"
     ]
    }
   ],
   "source": [
    "l1 =[1,2,3,4]\n",
    "t1 =(1,2,3,4)\n",
    "d1={'a':1,'b':2,'z':0,'c':3,'d':4}\n",
    "for key,val in d1.items():\n",
    "    print(key,val)\n",
    "    if val > 1:\n",
    "        print('no sigo es mayor que 1')\n",
    "        continue\n",
    "    else:\n",
    "        print('menor que 2')\n",
    "    if val == 0:\n",
    "        print(\"salgo!!\")\n",
    "        break"
   ]
  },
  {
   "cell_type": "code",
   "execution_count": 11,
   "metadata": {},
   "outputs": [
    {
     "name": "stdout",
     "output_type": "stream",
     "text": [
      "estoy en while...\n",
      "0\n",
      "estoy en while...\n",
      "1\n",
      "estoy en while...\n",
      "2\n",
      "estoy en while...\n",
      "3\n",
      "estoy en while...\n",
      "4\n",
      "estoy en while...\n",
      "5\n",
      "estoy en while...\n",
      "6\n",
      "estoy en while...\n",
      "7\n",
      "estoy en while...\n",
      "8\n",
      "estoy en while...\n",
      "9\n"
     ]
    }
   ],
   "source": [
    "contador = 0\n",
    "nsec = 10\n",
    "while contador < 10:\n",
    "    print('estoy en while...')\n",
    "    print(contador)\n",
    "    contador +=1\n",
    "    nsec = nsec-1\n",
    "    if not nsec:\n",
    "        break # con esto tenemos conador = contador+1"
   ]
  },
  {
   "cell_type": "code",
   "execution_count": 16,
   "metadata": {},
   "outputs": [
    {
     "name": "stdout",
     "output_type": "stream",
     "text": [
      "1\n",
      "2\n",
      "3\n",
      "4\n",
      "5\n"
     ]
    }
   ],
   "source": [
    "l1=[1,2,3,4,5]\n",
    "cont = 0\n",
    "while cont < len(l1):\n",
    "    print(l1[cont])\n",
    "    cont +=1\n",
    "#ctrl+d seleccionamos todo lo que queremos cambiar tb si hacemos boton derecho y seleccionamos refactor"
   ]
  },
  {
   "cell_type": "code",
   "execution_count": 24,
   "metadata": {},
   "outputs": [
    {
     "name": "stdout",
     "output_type": "stream",
     "text": [
      "a 1\n",
      "menor que 2\n",
      "b 2\n",
      "no sigo es mayor que 1\n",
      "z 0\n",
      "menor que 2\n",
      "salgo!!\n"
     ]
    }
   ],
   "source": [
    "d1={'a':1,'b':2,'z':0,'c':3,'d':4}\n",
    "l1=list(d1.items())\n",
    "idx = 0\n",
    "while idx < len(l1):\n",
    "    key,val = l1[idx]\n",
    "    idx +=1\n",
    "    print(key,val)\n",
    "    if val > 1:\n",
    "        print('no sigo es mayor que 1')\n",
    "        continue\n",
    "    else:\n",
    "        print('menor que 2')\n",
    "    if val == 0:\n",
    "        print(\"salgo!!\")\n",
    "        break"
   ]
  },
  {
   "cell_type": "code",
   "execution_count": null,
   "metadata": {},
   "outputs": [
    {
     "name": "stdout",
     "output_type": "stream",
     "text": [
      "has escogido 3\n"
     ]
    }
   ],
   "source": [
    "#while se suele usar para procesos asincronos\n",
    "opcion=0\n",
    "opcion = input('escoge entre 1,2,3,4')\n",
    "print('has escogido', opcion)\n",
    "\n",
    "\n"
   ]
  },
  {
   "cell_type": "code",
   "execution_count": null,
   "metadata": {},
   "outputs": [
    {
     "name": "stdout",
     "output_type": "stream",
     "text": [
      "('a', 1)\n",
      "a\n",
      "1\n",
      "('b', 2)\n",
      "b\n",
      "2\n",
      "('z', 0)\n",
      "z\n",
      "0\n",
      "('c', 3)\n",
      "c\n",
      "3\n",
      "('d', 4)\n",
      "d\n",
      "4\n"
     ]
    }
   ],
   "source": [
    "#esto es un ejemplo de bucle anidado\n",
    "d1={'a':1,'b':2,'z':0,'c':3,'d':4}\n",
    "l1=list(d1.items())\n",
    "for file in l1:\n",
    "    print(file)\n",
    "    for col in file:\n",
    "        print(col)"
   ]
  },
  {
   "cell_type": "code",
   "execution_count": 12,
   "metadata": {},
   "outputs": [
    {
     "name": "stdout",
     "output_type": "stream",
     "text": [
      "El mayor de los tres números es: 7\n"
     ]
    }
   ],
   "source": [
    "# Solicitar al usuario que ingrese tres números\n",
    "num1 = int(input(\"Ingrese el primer número: \"))\n",
    "num2 = int(input(\"Ingrese el segundo número: \"))\n",
    "num3 = int(input(\"Ingrese el tercer número: \"))\n",
    "# Determinar el mayor de los tres números\n",
    "if num1 >= num2 and num1 >= num3:\n",
    "    mayor = num1\n",
    "elif num2 >= num1 and num2 >= num3:\n",
    "    mayor = num2\n",
    "else:\n",
    "    mayor = num3\n",
    "# Mostrar el resultado\n",
    "print(\"El mayor de los tres números es:\", mayor)"
   ]
  },
  {
   "cell_type": "code",
   "execution_count": null,
   "metadata": {},
   "outputs": [
    {
     "name": "stdout",
     "output_type": "stream",
     "text": [
      "El mayor de los números es: 6\n"
     ]
    }
   ],
   "source": [
    "# Solicitar al usuario que ingrese una lista de números\n",
    "numeros = input(\"Ingrese una lista de números separados por comas: \")\n",
    "lista_numeros = [int(num) for num in numeros.split(\",\")]\n",
    "# Inicializar la variable mayor con el primer número de la lista\n",
    "mayor = lista_numeros[0]\n",
    "# Determinar el mayor de los números en la lista\n",
    "for num in lista_numeros:\n",
    "    if num > mayor:\n",
    "        mayor = num\n",
    "# Mostrar el resultado\n",
    "print(\"El mayor de los números es:\", mayor)"
   ]
  },
  {
   "cell_type": "code",
   "execution_count": null,
   "metadata": {},
   "outputs": [
    {
     "name": "stdout",
     "output_type": "stream",
     "text": [
      "El mayor valor en el diccionario es: 9\n"
     ]
    }
   ],
   "source": [
    "# Definir el diccionario\n",
    "datos = {'john': 4, 'Anna': 7, 'Peter': 1, 'Riga': 9}\n",
    "# Inicializar la variable mayor con el primer valor del diccionario\n",
    "mayor = next(iter(datos.values()))\n",
    "# Determinar el mayor de los valores en el diccionario\n",
    "for valor in datos.values():\n",
    "    if valor > mayor:\n",
    "        mayor = valor\n",
    "# Mostrar el resultado\n",
    "print(\"El mayor valor en el diccionario es:\", mayor)\n",
    "\n"
   ]
  },
  {
   "cell_type": "code",
   "execution_count": 13,
   "metadata": {},
   "outputs": [
    {
     "data": {
      "text/plain": [
       "4"
      ]
     },
     "execution_count": 13,
     "metadata": {},
     "output_type": "execute_result"
    }
   ],
   "source": [
    "datos = {'john': 4, 'Anna': 7, 'Peter': 1, 'Riga': 9}\n",
    "# Inicializar la variable mayor con el primer valor del diccionario\n",
    "mayor = next(iter(datos.values()))\n",
    "mayor"
   ]
  },
  {
   "cell_type": "code",
   "execution_count": null,
   "metadata": {},
   "outputs": [
    {
     "name": "stdout",
     "output_type": "stream",
     "text": [
      "PERMITIDO ENTRAR\n",
      "Quedan 3 personas por entrar.\n"
     ]
    },
    {
     "ename": "TypeError",
     "evalue": "list indices must be integers or slices, not str",
     "output_type": "error",
     "traceback": [
      "\u001b[0;31m---------------------------------------------------------------------------\u001b[0m",
      "\u001b[0;31mTypeError\u001b[0m                                 Traceback (most recent call last)",
      "Cell \u001b[0;32mIn[4], line 12\u001b[0m\n\u001b[1;32m     10\u001b[0m     personas_por_entrar \u001b[38;5;241m-\u001b[39m\u001b[38;5;241m=\u001b[39m \u001b[38;5;241m1\u001b[39m\n\u001b[1;32m     11\u001b[0m     \u001b[38;5;28mprint\u001b[39m(\u001b[38;5;124mf\u001b[39m\u001b[38;5;124m\"\u001b[39m\u001b[38;5;124mQuedan \u001b[39m\u001b[38;5;132;01m{\u001b[39;00mpersonas_por_entrar\u001b[38;5;132;01m}\u001b[39;00m\u001b[38;5;124m personas por entrar.\u001b[39m\u001b[38;5;124m\"\u001b[39m)\n\u001b[0;32m---> 12\u001b[0m     \u001b[38;5;28;01mdel\u001b[39;00m(dnis_aprobados[\u001b[38;5;124m'\u001b[39m\u001b[38;5;124mdni_ingresado\u001b[39m\u001b[38;5;124m'\u001b[39m])\n\u001b[1;32m     13\u001b[0m \u001b[38;5;28;01melse\u001b[39;00m:\n\u001b[1;32m     14\u001b[0m     \u001b[38;5;28mprint\u001b[39m(\u001b[38;5;124m\"\u001b[39m\u001b[38;5;124mNO PERMITIDO\u001b[39m\u001b[38;5;124m\"\u001b[39m)\n",
      "\u001b[0;31mTypeError\u001b[0m: list indices must be integers or slices, not str"
     ]
    }
   ],
   "source": [
    "# Lista de DNIs aprobados\n",
    "dnis_aprobados = ['12345678A', '23456789B', '34567890C', '45678901D']\n",
    "# Contador de personas que quedan por entrar\n",
    "personas_por_entrar = len(dnis_aprobados)\n",
    "# Bucle para solicitar documentos hasta que la lista esté completa\n",
    "while personas_por_entrar > 0:\n",
    "    dni_ingresado = input(\"Ingrese el número de documento: \")\n",
    "    if dni_ingresado in dnis_aprobados:\n",
    "        print(\"PERMITIDO ENTRAR\")\n",
    "        personas_por_entrar -= 1\n",
    "        print(f\"Quedan {personas_por_entrar} personas por entrar.\")\n",
    "    else:\n",
    "        print(\"NO PERMITIDO\")\n",
    "# Cuando la lista se complete\n",
    "print(\"COMPLETADO\")"
   ]
  },
  {
   "cell_type": "code",
   "execution_count": 8,
   "metadata": {},
   "outputs": [
    {
     "name": "stdout",
     "output_type": "stream",
     "text": [
      "NO PERMITIDO dn111\n",
      "PERMITIDO ENTRAR dni1\n",
      "Quedan 3 personas por entrar.\n",
      "PERMITIDO ENTRAR dni2\n",
      "Quedan 2 personas por entrar.\n",
      "NO PERMITIDO dni5\n",
      "NO PERMITIDO \n",
      "PERMITIDO ENTRAR dni4\n",
      "Quedan 1 personas por entrar.\n",
      "PERMITIDO ENTRAR dni3\n",
      "Quedan 0 personas por entrar.\n",
      "COMPLETADO\n"
     ]
    }
   ],
   "source": [
    "# Lista de DNIs aprobados\n",
    "dnis = ['dni1', 'dni2', 'dni3', 'dni4']\n",
    "mutable_dnis = list (dnis)\n",
    "# Contador de personas que quedan por entrar\n",
    "quedan = len(dnis)\n",
    "# Bucle para solicitar documentos hasta que la lista esté completa\n",
    "while quedan > 0:\n",
    "    adni = input(\"Ingrese el número de documento: \")\n",
    "    if adni in dnis:\n",
    "        print(\"PERMITIDO ENTRAR\",adni)\n",
    "        mutable_dnis.remove(adni)\n",
    "        quedan=len(mutable_dnis)\n",
    "        print(f\"Quedan {quedan} personas por entrar.\")\n",
    "    else:\n",
    "        print(\"NO PERMITIDO\",adni)\n",
    "# Cuando la lista se complete\n",
    "print(\"COMPLETADO\")"
   ]
  },
  {
   "cell_type": "code",
   "execution_count": 4,
   "metadata": {},
   "outputs": [],
   "source": [
    "notas = {\n",
    "\"Sosanna\": [{'maths': (4, 3)}, {'lang': (5, 5)}], \n",
    "\"Rosalind\": [{'maths': (8, 6)}, {'lang': (10, 5)}], \n",
    "\"Gaspar\": [{'maths': (1, 6)}, {'lang': (7, 5)}], \n",
    "\"Herve\": [{'maths': (2, 5)}, {'lang': (8, 2)}], \n",
    "\"Jayme\": [{'maths': (5, 1)}, {'lang': (10, 7)}], \n",
    "\"Dasya\": [{'maths': (5, 3)}, {'lang': (8, 2)}], \n",
    "\"Christean\": [{'maths': (2, 10)}, {'lang': (3, 6)}], \n",
    "\"Risa\": [{'maths': (9, 9)}, {'lang': (2, 7)}], \n",
    "\"Florenza\": [{'maths': (10, 6)}, {'lang': (5, 5)}], \n",
    "\"Donella\": [{'maths': (10, 3)}, {'lang': (8, 3)}], \n",
    "\"Cesaro\": [{'maths': (2, 4)}, {'lang': (1, 7)}], \n",
    "\"Beatrisa\": [{'maths': (9, 2)}, {'lang': (1, 5)}], \n",
    "\"Thain\": [{'maths': (1, 7)}, {'lang': (6, 3)}], \n",
    "\"Shaylah\": [{'maths': (6, 7)}, {'lang': (2, 1)}], \n",
    "\"Anne-marie\": [{'maths': (4, 6)}, {'lang': (4, 3)}], \n",
    "\"Swen\": [{'maths': (8, 5)}, {'lang': (7, 6)}], \n",
    "\"Vaclav\": [{'maths': (1, 4)}, {'lang': (9, 10)}], \n",
    "\"Hermine\": [{'maths': (2, 1)}, {'lang': (8, 1)}], \n",
    "\"Sybyl\": [{'maths': (10, 2)}, {'lang': (3, 10)}], \n",
    "\"Ynes\": [{'maths': (6, 10)}, {'lang': (3, 2)}], \n",
    "\"Antonie\": [{'maths': (9, 3)}, {'lang': (4, 9)}], \n",
    "\"Trixie\": [{'maths': (9, 10)}, {'lang': (5, 4)}], \n",
    "\"Mathilde\": [{'maths': (4, 5)}, {'lang': (8, 1)}], \n",
    "\"Merlina\": [{'maths': (6, 8)}, {'lang': (4, 6)}], \n",
    "\"Zared\": [{'maths': (1, 9)}, {'lang': (5, 3)}], \n",
    "\"Brandais\": [{'maths': (3, 3)}, {'lang': (7, 1)}], \n",
    "\"Reggie\": [{'maths': (10, 2)}, {'lang': (10, 8)}], \n",
    "\"Burk\": [{'maths': (8, 7)}, {'lang': (5, 5)}], \n",
    "\"Seymour\": [{'maths': (5, 8)}, {'lang': (8, 3)}], \n",
    "\"Fergus\": [{'maths': (2, 3)}, {'lang': (5, 5)}], \n",
    "\"Jeanette\": [{'maths': (1, 5)}, {'lang': (5, 4)}], \n",
    "\"Arther\": [{'maths': (5, 5)}, {'lang': (9, 5)}], \n",
    "\"Avictor\": [{'maths': (9, 2)}, {'lang': (8, 5)}], \n",
    "\"Lynette\": [{'maths': (7, 2)}, {'lang': (10, 6)}], \n",
    "\"Briano\": [{'maths': (2, 2)}, {'lang': (4, 6)}], \n",
    "\"Daveta\": [{'maths': (4, 7)}, {'lang': (2, 9)}], \n",
    "\"Devonne\": [{'maths': (10, 2)}, {'lang': (6, 8)}], \n",
    "\"Chiarra\": [{'maths': (6, 1)}, {'lang': (4, 3)}], \n",
    "\"Torrey\": [{'maths': (2, 9)}, {'lang': (1, 3)}], \n",
    "\"Hattie\": [{'maths': (2, 5)}, {'lang': (7, 2)}], \n",
    "\"Florenza\": [{'maths': (10, 5)}, {'lang': (4, 4)}], \n",
    "\"Veronica\": [{'maths': (8, 6)}, {'lang': (3, 4)}], \n",
    "\"Jared\": [{'maths': (6, 1)}, {'lang': (1, 3)}], \n",
    "\"Lori\": [{'maths': (6, 1)}, {'lang': (10, 10)}], \n",
    "\"Kristopher\": [{'maths': (1, 2)}, {'lang': (4, 9)}], \n",
    "\"Jeanne\": [{'maths': (1, 1)}, {'lang': (1, 4)}], \n",
    "\"Maximilian\": [{'maths': (3, 3)}, {'lang': (10, 9)}], \n",
    "\"Merrily\": [{'maths': (5, 7)}, {'lang': (1, 3)}], \n",
    "\"Skipton\": [{'maths': (9, 6)}, {'lang': (4, 9)}], \n",
    "\"Tom\": [{'maths': (10, 5)}, {'lang': (1, 7)}], \n",
    "\"Cirilo\": [{'maths': (2, 2)}, {'lang': (6, 6)}], \n",
    "\"Warde\": [{'maths': (8, 7)}, {'lang': (9, 5)}], \n",
    "\"Woodie\": [{'maths': (10, 3)}, {'lang': (2, 1)}], \n",
    "\"Odetta\": [{'maths': (3, 7)}, {'lang': (7, 9)}], \n",
    "\"Cordelie\": [{'maths': (2, 3)}, {'lang': (9, 1)}], \n",
    "\"Wilow\": [{'maths': (10, 8)}, {'lang': (2, 6)}], \n",
    "\"Charissa\": [{'maths': (5, 3)}, {'lang': (5, 10)}], \n",
    "\"Ralina\": [{'maths': (10, 9)}, {'lang': (8, 2)}], \n",
    "\"Charisse\": [{'maths': (6, 5)}, {'lang': (1, 9)}], \n",
    "\"Huntley\": [{'maths': (8, 7)}, {'lang': (10, 3)}], \n",
    "\"Ella\": [{'maths': (4, 3)}, {'lang': (6, 8)}], \n",
    "\"Nelli\": [{'maths': (2, 6)}, {'lang': (5, 10)}], \n",
    "\"Gearalt\": [{'maths': (4, 9)}, {'lang': (4, 4)}], \n",
    "\"Zahara\": [{'maths': (2, 1)}, {'lang': (1, 4)}], \n",
    "\"Dilan\": [{'maths': (8, 6)}, {'lang': (7, 6)}], \n",
    "\"Frederique\": [{'maths': (5, 10)}, {'lang': (2, 8)}], \n",
    "\"Saba\": [{'maths': (9, 8)}, {'lang': (9, 9)}], \n",
    "\"Natalya\": [{'maths': (1, 5)}, {'lang': (5, 2)}], \n",
    "\"Myrah\": [{'maths': (3, 8)}, {'lang': (3, 5)}], \n",
    "\"Magnum\": [{'maths': (7, 1)}, {'lang': (2, 9)}], \n",
    "\"Grace\": [{'maths': (9, 4)}, {'lang': (6, 6)}], \n",
    "\"Ilysa\": [{'maths': (10, 9)}, {'lang': (8, 8)}], \n",
    "\"Clerkclaude\": [{'maths': (7, 2)}, {'lang': (10, 2)}], \n",
    "\"Yetty\": [{'maths': (8, 6)}, {'lang': (2, 4)}], \n",
    "\"Cassandre\": [{'maths': (6, 1)}, {'lang': (9, 5)}], \n",
    "\"Olympie\": [{'maths': (3, 3)}, {'lang': (10, 3)}], \n",
    "\"Joshuah\": [{'maths': (7, 7)}, {'lang': (9, 2)}], \n",
    "\"Kristine\": [{'maths': (3, 4)}, {'lang': (7, 7)}], \n",
    "\"Dean\": [{'maths': (8, 6)}, {'lang': (10, 10)}], \n",
    "\"Ilyssa\": [{'maths': (9, 7)}, {'lang': (5, 3)}], \n",
    "\"Nannie\": [{'maths': (6, 9)}, {'lang': (2, 10)}], \n",
    "\"Feodor\": [{'maths': (5, 6)}, {'lang': (3, 7)}], \n",
    "\"Guglielma\": [{'maths': (10, 3)}, {'lang': (9, 6)}], \n",
    "\"Alla\": [{'maths': (9, 10)}, {'lang': (7, 7)}], \n",
    "\"Rowland\": [{'maths': (4, 10)}, {'lang': (8, 7)}], \n",
    "\"Miquela\": [{'maths': (7, 5)}, {'lang': (2, 7)}], \n",
    "\"Sapphira\": [{'maths': (4, 6)}, {'lang': (5, 2)}], \n",
    "\"Zorina\": [{'maths': (3, 2)}, {'lang': (4, 9)}], \n",
    "\"Rosemonde\": [{'maths': (10, 6)}, {'lang': (9, 9)}], \n",
    "\"Alisa\": [{'maths': (1, 4)}, {'lang': (9, 5)}], \n",
    "\"Ginger\": [{'maths': (3, 4)}, {'lang': (1, 2)}], \n",
    "\"Karlis\": [{'maths': (9, 8)}, {'lang': (3, 1)}], \n",
    "\"Robbin\": [{'maths': (7, 5)}, {'lang': (10, 8)}], \n",
    "\"Kimberly\": [{'maths': (3, 7)}, {'lang': (8, 1)}], \n",
    "\"Udale\": [{'maths': (7, 1)}, {'lang': (1, 7)}], \n",
    "\"Isidor\": [{'maths': (8, 2)}, {'lang': (6, 3)}], \n",
    "\"Farlee\": [{'maths': (5, 10)}, {'lang': (9, 9)}], \n",
    "\"Katleen\": [{'maths': (8, 6)}, {'lang': (9, 3)}], \n",
    "\"Nanine\": [{'maths': (5, 7)}, {'lang': (9, 9)}], \n",
    "\"Marlow\": [{'maths': (2, 4)}, {'lang': (5, 2)}]\n",
    "}\n"
   ]
  },
  {
   "cell_type": "code",
   "execution_count": null,
   "metadata": {},
   "outputs": [
    {
     "data": {
      "text/plain": [
       "99"
      ]
     },
     "execution_count": 12,
     "metadata": {},
     "output_type": "execute_result"
    }
   ],
   "source": [
    "#Genero otro dict para tener limpio el original\n",
    "copia_notas=dict(notas)\n",
    "lnotas=list(copia_notas.items())\n",
    "subnotas = dict(lnotas[:3])\n",
    "#iniciamos las variables de las asignaturas\n",
    "suma_maths = 0\n",
    "suma_lang=0\n",
    "#contar el número de alumnos\n",
    "num_estudiantes = len(lnotas)\n",
    "\n",
    "for estudiante in copia_notas:\n",
    "    suma_maths += estudiante['maths']\n",
    "    suma_lang += estudiante['lang']\n",
    "\n",
    "# Calcular la media por asignatura\n",
    "media_maths = suma_matematica / num_estudiantes\n",
    "media_lang = suma_fisica / num_estudiantes\n"
   ]
  },
  {
   "cell_type": "code",
   "execution_count": 6,
   "metadata": {},
   "outputs": [
    {
     "name": "stdout",
     "output_type": "stream",
     "text": [
      "Sosanna [{'maths': (4, 3)}, {'lang': (5, 5)}]\n",
      "{'maths': (4, 3)}\n",
      "{'lang': (5, 5)}\n",
      "Rosalind [{'maths': (8, 6)}, {'lang': (10, 5)}]\n",
      "{'maths': (8, 6)}\n",
      "{'lang': (10, 5)}\n",
      "Gaspar [{'maths': (1, 6)}, {'lang': (7, 5)}]\n",
      "{'maths': (1, 6)}\n",
      "{'lang': (7, 5)}\n"
     ]
    }
   ],
   "source": [
    "#Genero otro dict para tener limpio el original\n",
    "copia_notas= dict(notas)\n",
    "lnotas=list(copia_notas.items())\n",
    "#contar el número de alumnos\n",
    "num_estudiantes = len(lnotas)\n",
    "#generar dict para ir trabajando\n",
    "subnotas = dict(lnotas[:3])\n",
    "for estudiante, asignaturas in subnotas.items():\n",
    "    print(estudiante,asignaturas)\n",
    "    for asignatura in asignaturas:\n",
    "        print(asignatura)"
   ]
  },
  {
   "cell_type": "markdown",
   "metadata": {},
   "source": []
  }
 ],
 "metadata": {
  "kernelspec": {
   "display_name": "Python 3",
   "language": "python",
   "name": "python3"
  },
  "language_info": {
   "codemirror_mode": {
    "name": "ipython",
    "version": 3
   },
   "file_extension": ".py",
   "mimetype": "text/x-python",
   "name": "python",
   "nbconvert_exporter": "python",
   "pygments_lexer": "ipython3",
   "version": "3.9.5"
  }
 },
 "nbformat": 4,
 "nbformat_minor": 2
}
