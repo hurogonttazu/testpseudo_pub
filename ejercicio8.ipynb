{
 "cells": [
  {
   "cell_type": "code",
   "execution_count": 1,
   "metadata": {},
   "outputs": [
    {
     "name": "stdout",
     "output_type": "stream",
     "text": [
      "hola\n"
     ]
    }
   ],
   "source": [
    "print('hola')"
   ]
  },
  {
   "cell_type": "code",
   "execution_count": 2,
   "metadata": {},
   "outputs": [
    {
     "name": "stdout",
     "output_type": "stream",
     "text": [
      "hola\n"
     ]
    }
   ],
   "source": [
    "import psycopg2\n",
    "print('hola')"
   ]
  },
  {
   "cell_type": "code",
   "execution_count": 3,
   "metadata": {},
   "outputs": [
    {
     "name": "stdout",
     "output_type": "stream",
     "text": [
      "Database conn successful\n",
      "Database conn successful\n",
      "(1, 'Pedro', 'p@p.es', 34)\n",
      "(2, 'Anna', 'a@a.es', 43)\n",
      "(3, 'Luisa', 'l@l.es', 54)\n",
      "(4, 'Juan', 'j@j.es', 21)\n"
     ]
    }
   ],
   "source": [
    "def create_server_connection():\n",
    "    PGHOST='ep-billowing-dawn-a95row8d.gwc.azure.neon.tech'\n",
    "    PGDATABASE='DATAFUNDAMENTALS'\n",
    "    PGUSER='DATAFUNDAMENTALS_owner'\n",
    "    PGPASSWORD='IPKFE15iJuOH'\n",
    "\n",
    "    conn = None\n",
    "    try:\n",
    "        conn = psycopg2.connect(database=PGDATABASE, user=PGUSER, password=PGPASSWORD, host=PGHOST, port=5432)\n",
    "        print(\"Database conn successful\")\n",
    "    except Error as err:\n",
    "        print(f\"Error: '{err}'\")\n",
    "    return conn\n",
    "connection = create_server_connection()\n",
    "# ejecuto querys\n",
    "# cierre cursorimport psycopg2\n",
    "# cierro conexión\n",
    "connection.close()\n",
    "# SELECT\n",
    "conn = create_server_connection()\n",
    "\n",
    "cur = conn.cursor()\n",
    "\n",
    "cur.execute('SELECT * FROM datafund_students;')\n",
    "rows = cur.fetchall()\n",
    "conn.commit()\n",
    "cur.close()\n",
    "conn.close()\n",
    "for row in rows:\n",
    "    print(row)"
   ]
  },
  {
   "cell_type": "code",
   "execution_count": 7,
   "metadata": {},
   "outputs": [
    {
     "name": "stdout",
     "output_type": "stream",
     "text": [
      "hola\n"
     ]
    },
    {
     "ename": "ModuleNotFoundError",
     "evalue": "No module named 'db_client'",
     "output_type": "error",
     "traceback": [
      "\u001b[0;31m---------------------------------------------------------------------------\u001b[0m",
      "\u001b[0;31mModuleNotFoundError\u001b[0m                       Traceback (most recent call last)",
      "Cell \u001b[0;32mIn[7], line 3\u001b[0m\n\u001b[1;32m      1\u001b[0m \u001b[38;5;28;01mimport\u001b[39;00m \u001b[38;5;21;01mpsycopg2\u001b[39;00m\n\u001b[1;32m      2\u001b[0m \u001b[38;5;28mprint\u001b[39m(\u001b[38;5;124m'\u001b[39m\u001b[38;5;124mhola\u001b[39m\u001b[38;5;124m'\u001b[39m)\n\u001b[0;32m----> 3\u001b[0m \u001b[38;5;28;01mimport\u001b[39;00m \u001b[38;5;21;01mdb_client\u001b[39;00m \u001b[38;5;28;01mas\u001b[39;00m \u001b[38;5;21;01mmsm\u001b[39;00m\n\u001b[1;32m      5\u001b[0m PGHOST \u001b[38;5;241m=\u001b[39m \u001b[38;5;124m'\u001b[39m\u001b[38;5;124m...\u001b[39m\u001b[38;5;124m'\u001b[39m\n\u001b[1;32m      6\u001b[0m PGDATABASE \u001b[38;5;241m=\u001b[39m \u001b[38;5;124m'\u001b[39m\u001b[38;5;124m...\u001b[39m\u001b[38;5;124m'\u001b[39m\n",
      "\u001b[0;31mModuleNotFoundError\u001b[0m: No module named 'db_client'"
     ]
    }
   ],
   "source": [
    "import psycopg2\n",
    "print('hola')\n",
    "import db_client as msm\n",
    "\n",
    "PGHOST = '...'\n",
    "PGDATABASE = '...'\n",
    "PGUSER = '...'\n",
    "PGPASSWORD = '..'\n",
    "\n",
    "# Una conexión para todo el programa\n",
    "conn = msm.create_server_connection(PGHOST, PGDATABASE, PGUSER, PGPASSWORD)"
   ]
  }
 ],
 "metadata": {
  "kernelspec": {
   "display_name": "Python 3.8 - AzureML",
   "language": "python",
   "name": "python38-azureml"
  },
  "language_info": {
   "codemirror_mode": {
    "name": "ipython",
    "version": 3
   },
   "file_extension": ".py",
   "mimetype": "text/x-python",
   "name": "python",
   "nbconvert_exporter": "python",
   "pygments_lexer": "ipython3",
   "version": "3.10.11"
  }
 },
 "nbformat": 4,
 "nbformat_minor": 2
}
