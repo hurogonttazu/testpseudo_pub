{
 "cells": [
  {
   "cell_type": "code",
   "execution_count": 1,
   "metadata": {},
   "outputs": [
    {
     "name": "stdout",
     "output_type": "stream",
     "text": [
      "hola\n"
     ]
    }
   ],
   "source": [
    "import psycopg2\n",
    "print('hola')\n"
   ]
  },
  {
   "cell_type": "code",
   "execution_count": 2,
   "metadata": {},
   "outputs": [
    {
     "name": "stdout",
     "output_type": "stream",
     "text": [
      "Database conn successful\n",
      "Database conn successful\n",
      "(1, 'Pedro', 'p@p.es', 34)\n",
      "(2, 'Anna', 'a@a.es', 43)\n",
      "(3, 'Luisa', 'l@l.es', 54)\n",
      "(4, 'Juan', 'j@j.es', 21)\n"
     ]
    }
   ],
   "source": [
    "def create_server_connection():\n",
    "    PGHOST='ep-billowing-dawn-a95row8d.gwc.azure.neon.tech'\n",
    "    PGDATABASE='DATAFUNDAMENTALS'\n",
    "    PGUSER='DATAFUNDAMENTALS_owner'\n",
    "    PGPASSWORD='IPKFE15iJuOH'\n",
    "\n",
    "    conn = None\n",
    "    try:\n",
    "        conn = psycopg2.connect(database=PGDATABASE, user=PGUSER, password=PGPASSWORD, host=PGHOST, port=5432)\n",
    "        print(\"Database conn successful\")\n",
    "    except Error as err:\n",
    "        print(f\"Error: '{err}'\")\n",
    "    return conn\n",
    "connection = create_server_connection()\n",
    "# ejecuto querys\n",
    "# cierre cursorimport psycopg2\n",
    "# cierro conexión\n",
    "connection.close()\n",
    "# SELECT\n",
    "conn = create_server_connection()\n",
    "\n",
    "cur = conn.cursor()\n",
    "\n",
    "cur.execute('SELECT * FROM datafund_students;')\n",
    "rows = cur.fetchall()\n",
    "conn.commit()\n",
    "cur.close()\n",
    "conn.close()\n",
    "for row in rows:\n",
    "    print(row)"
   ]
  },
  {
   "cell_type": "code",
   "execution_count": 6,
   "metadata": {},
   "outputs": [
    {
     "name": "stdout",
     "output_type": "stream",
     "text": [
      "Database conn successful\n",
      "SQL: SELECT * FROM payments WHERE amount > 100\n",
      "[(103, 'HQ336336', datetime.date(2004, 10, 19), Decimal('6066.78')), (103, 'JM555205', datetime.date(2003, 6, 5), Decimal('14571.44')), (103, 'OM314933', datetime.date(2004, 12, 18), Decimal('1676.14')), (112, 'BO864823', datetime.date(2004, 12, 17), Decimal('14191.12')), (112, 'HQ55022', datetime.date(2003, 6, 6), Decimal('32641.98')), (112, 'ND748579', datetime.date(2004, 8, 20), Decimal('33347.88')), (114, 'GG31455', datetime.date(2003, 5, 20), Decimal('45864.03')), (114, 'MA765515', datetime.date(2004, 12, 15), Decimal('82261.22')), (114, 'NP603840', datetime.date(2003, 5, 31), Decimal('7565.08')), (114, 'NR27552', datetime.date(2004, 3, 10), Decimal('44894.74')), (119, 'DB933704', datetime.date(2004, 11, 14), Decimal('19501.82')), (119, 'LN373447', datetime.date(2004, 8, 8), Decimal('47924.19')), (119, 'NG94694', datetime.date(2005, 2, 22), Decimal('49523.67')), (121, 'DB889831', datetime.date(2003, 2, 16), Decimal('50218.95')), (121, 'FD317790', datetime.date(2003, 10, 28), Decimal('1491.38')), (121, 'KI831359', datetime.date(2004, 11, 4), Decimal('17876.32')), (121, 'MA302151', datetime.date(2004, 11, 28), Decimal('34638.14')), (124, 'AE215433', datetime.date(2005, 3, 5), Decimal('101244.59')), (124, 'BG255406', datetime.date(2004, 8, 28), Decimal('85410.87')), (124, 'CQ287967', datetime.date(2003, 4, 11), Decimal('11044.30')), (124, 'ET64396', datetime.date(2005, 4, 16), Decimal('83598.04')), (124, 'HI366474', datetime.date(2004, 12, 27), Decimal('47142.70')), (124, 'HR86578', datetime.date(2004, 11, 2), Decimal('55639.66')), (124, 'KI131716', datetime.date(2003, 8, 15), Decimal('111654.40')), (124, 'LF217299', datetime.date(2004, 3, 26), Decimal('43369.30')), (124, 'NT141748', datetime.date(2003, 11, 25), Decimal('45084.38')), (128, 'DI925118', datetime.date(2003, 1, 28), Decimal('10549.01')), (128, 'FA465482', datetime.date(2003, 10, 18), Decimal('24101.81')), (128, 'FH668230', datetime.date(2004, 3, 24), Decimal('33820.62')), (128, 'IP383901', datetime.date(2004, 11, 18), Decimal('7466.32')), (129, 'DM826140', datetime.date(2004, 12, 8), Decimal('26248.78')), (129, 'ID449593', datetime.date(2003, 12, 11), Decimal('23923.93')), (129, 'PI42991', datetime.date(2003, 4, 9), Decimal('16537.85')), (131, 'CL442705', datetime.date(2003, 3, 12), Decimal('22292.62')), (131, 'MA724562', datetime.date(2004, 12, 2), Decimal('50025.35')), (131, 'NB445135', datetime.date(2004, 9, 11), Decimal('35321.97')), (141, 'AU364101', datetime.date(2003, 7, 19), Decimal('36251.03')), (141, 'DB583216', datetime.date(2004, 11, 1), Decimal('36140.38')), (141, 'DL460618', datetime.date(2005, 5, 19), Decimal('46895.48')), (141, 'HJ32686', datetime.date(2004, 1, 30), Decimal('59830.55')), (141, 'ID10962', datetime.date(2004, 12, 31), Decimal('116208.40')), (141, 'IN446258', datetime.date(2005, 3, 25), Decimal('65071.26')), (141, 'JE105477', datetime.date(2005, 3, 18), Decimal('120166.58')), (141, 'JN355280', datetime.date(2003, 10, 26), Decimal('49539.37')), (141, 'JN722010', datetime.date(2003, 2, 25), Decimal('40206.20')), (141, 'KT52578', datetime.date(2003, 12, 9), Decimal('63843.55')), (141, 'MC46946', datetime.date(2004, 7, 9), Decimal('35420.74')), (141, 'MF629602', datetime.date(2004, 8, 16), Decimal('20009.53')), (141, 'NU627706', datetime.date(2004, 5, 17), Decimal('26155.91')), (144, 'IR846303', datetime.date(2004, 12, 12), Decimal('36005.71')), (144, 'LA685678', datetime.date(2003, 4, 9), Decimal('7674.94')), (145, 'CN328545', datetime.date(2004, 7, 3), Decimal('4710.73')), (145, 'ED39322', datetime.date(2004, 4, 26), Decimal('28211.70')), (145, 'HR182688', datetime.date(2004, 12, 1), Decimal('20564.86')), (145, 'JJ246391', datetime.date(2003, 2, 20), Decimal('53959.21')), (146, 'FP549817', datetime.date(2004, 3, 18), Decimal('40978.53')), (146, 'FU793410', datetime.date(2004, 1, 16), Decimal('49614.72')), (146, 'LJ160635', datetime.date(2003, 12, 10), Decimal('39712.10')), (151, 'BF686658', datetime.date(2003, 12, 22), Decimal('58793.53')), (151, 'GB852215', datetime.date(2004, 7, 26), Decimal('20314.44')), (151, 'IP568906', datetime.date(2003, 6, 18), Decimal('58841.35')), (151, 'KI884577', datetime.date(2004, 12, 14), Decimal('39964.63')), (157, 'HI618861', datetime.date(2004, 11, 19), Decimal('35152.12')), (157, 'NN711988', datetime.date(2004, 9, 7), Decimal('63357.13')), (161, 'BR352384', datetime.date(2004, 11, 14), Decimal('2434.25')), (161, 'BR478494', datetime.date(2003, 11, 18), Decimal('50743.65')), (161, 'KG644125', datetime.date(2005, 2, 2), Decimal('12692.19')), (161, 'NI908214', datetime.date(2003, 8, 5), Decimal('38675.13')), (166, 'BQ327613', datetime.date(2004, 9, 16), Decimal('38785.48')), (166, 'DC979307', datetime.date(2004, 7, 7), Decimal('44160.92')), (166, 'LA318629', datetime.date(2004, 2, 28), Decimal('22474.17')), (167, 'ED743615', datetime.date(2004, 9, 19), Decimal('12538.01')), (167, 'GN228846', datetime.date(2003, 12, 3), Decimal('85024.46')), (171, 'GB878038', datetime.date(2004, 3, 15), Decimal('18997.89')), (171, 'IL104425', datetime.date(2003, 11, 22), Decimal('42783.81')), (172, 'AD832091', datetime.date(2004, 9, 9), Decimal('1960.80')), (172, 'CE51751', datetime.date(2004, 12, 4), Decimal('51209.58')), (172, 'EH208589', datetime.date(2003, 4, 20), Decimal('33383.14')), (173, 'GP545698', datetime.date(2004, 5, 13), Decimal('11843.45')), (173, 'IG462397', datetime.date(2004, 3, 29), Decimal('20355.24')), (175, 'CITI3434344', datetime.date(2005, 5, 19), Decimal('28500.78')), (175, 'IO448913', datetime.date(2003, 11, 19), Decimal('24879.08')), (175, 'PI15215', datetime.date(2004, 7, 10), Decimal('42044.77')), (181, 'CM564612', datetime.date(2004, 4, 25), Decimal('22602.36')), (181, 'GQ132144', datetime.date(2003, 1, 30), Decimal('5494.78')), (181, 'OH367219', datetime.date(2004, 11, 16), Decimal('44400.50')), (186, 'AE192287', datetime.date(2005, 3, 10), Decimal('23602.90')), (186, 'AK412714', datetime.date(2003, 10, 27), Decimal('37602.48')), (186, 'KA602407', datetime.date(2004, 10, 21), Decimal('34341.08')), (187, 'AM968797', datetime.date(2004, 11, 3), Decimal('52825.29')), (187, 'BQ39062', datetime.date(2004, 12, 8), Decimal('47159.11')), (187, 'KL124726', datetime.date(2003, 3, 27), Decimal('48425.69')), (189, 'BO711618', datetime.date(2004, 10, 3), Decimal('17359.53')), (189, 'NM916675', datetime.date(2004, 3, 1), Decimal('32538.74')), (198, 'FI192930', datetime.date(2004, 12, 6), Decimal('9658.74')), (198, 'HQ920205', datetime.date(2003, 7, 6), Decimal('6036.96')), (198, 'IS946883', datetime.date(2004, 9, 21), Decimal('5858.56')), (201, 'DP677013', datetime.date(2003, 10, 20), Decimal('23908.24')), (201, 'OO846801', datetime.date(2004, 6, 15), Decimal('37258.94')), (202, 'HI358554', datetime.date(2003, 12, 18), Decimal('36527.61')), (202, 'IQ627690', datetime.date(2004, 11, 8), Decimal('33594.58')), (204, 'GC697638', datetime.date(2004, 8, 13), Decimal('51152.86')), (204, 'IS150005', datetime.date(2004, 9, 24), Decimal('4424.40')), (205, 'GL756480', datetime.date(2003, 12, 4), Decimal('3879.96')), (205, 'LL562733', datetime.date(2003, 9, 5), Decimal('50342.74')), (205, 'NM739638', datetime.date(2005, 2, 6), Decimal('39580.60')), (209, 'BOAF82044', datetime.date(2005, 5, 3), Decimal('35157.75')), (209, 'ED520529', datetime.date(2004, 6, 21), Decimal('4632.31')), (209, 'PH785937', datetime.date(2004, 5, 4), Decimal('36069.26')), (216, 'BG407567', datetime.date(2003, 5, 9), Decimal('3101.40')), (216, 'ML780814', datetime.date(2004, 12, 6), Decimal('24945.21')), (216, 'MM342086', datetime.date(2003, 12, 14), Decimal('40473.86')), (219, 'BN17870', datetime.date(2005, 3, 2), Decimal('3452.75')), (219, 'BR941480', datetime.date(2003, 10, 18), Decimal('4465.85')), (227, 'MQ413968', datetime.date(2003, 10, 31), Decimal('36164.46')), (227, 'NU21326', datetime.date(2004, 11, 2), Decimal('53745.34')), (233, 'BOFA23232', datetime.date(2005, 5, 20), Decimal('29070.38')), (233, 'II180006', datetime.date(2004, 7, 1), Decimal('22997.45')), (233, 'JG981190', datetime.date(2003, 11, 18), Decimal('16909.84')), (239, 'NQ865547', datetime.date(2004, 3, 15), Decimal('80375.24')), (240, 'IF245157', datetime.date(2004, 11, 16), Decimal('46788.14')), (240, 'JO719695', datetime.date(2004, 3, 28), Decimal('24995.61')), (242, 'AF40894', datetime.date(2003, 11, 22), Decimal('33818.34')), (242, 'HR224331', datetime.date(2005, 6, 3), Decimal('12432.32')), (242, 'KI744716', datetime.date(2003, 7, 21), Decimal('14232.70')), (249, 'IJ399820', datetime.date(2004, 9, 19), Decimal('33924.24')), (249, 'NE404084', datetime.date(2004, 9, 4), Decimal('48298.99')), (250, 'EQ12267', datetime.date(2005, 5, 17), Decimal('17928.09')), (250, 'HD284647', datetime.date(2004, 12, 30), Decimal('26311.63')), (250, 'HN114306', datetime.date(2003, 7, 18), Decimal('23419.47')), (256, 'EP227123', datetime.date(2004, 2, 10), Decimal('5759.42')), (256, 'HE84936', datetime.date(2004, 10, 22), Decimal('53116.99')), (259, 'EU280955', datetime.date(2004, 11, 6), Decimal('61234.67')), (259, 'GB361972', datetime.date(2003, 12, 7), Decimal('27988.47')), (260, 'IO164641', datetime.date(2004, 8, 30), Decimal('37527.58')), (260, 'NH776924', datetime.date(2004, 4, 24), Decimal('29284.42')), (276, 'EM979878', datetime.date(2005, 2, 9), Decimal('27083.78')), (276, 'KM841847', datetime.date(2003, 11, 13), Decimal('38547.19')), (276, 'LE432182', datetime.date(2003, 9, 28), Decimal('41554.73')), (276, 'OJ819725', datetime.date(2005, 4, 30), Decimal('29848.52')), (278, 'BJ483870', datetime.date(2004, 12, 5), Decimal('37654.09')), (278, 'GP636783', datetime.date(2003, 3, 2), Decimal('52151.81')), (278, 'NI983021', datetime.date(2003, 11, 24), Decimal('37723.79')), (282, 'IA793562', datetime.date(2003, 8, 3), Decimal('24013.52')), (282, 'JT819493', datetime.date(2004, 8, 2), Decimal('35806.73')), (282, 'OD327378', datetime.date(2005, 1, 3), Decimal('31835.36')), (286, 'DR578578', datetime.date(2004, 10, 28), Decimal('47411.33')), (286, 'KH910279', datetime.date(2004, 9, 5), Decimal('43134.04')), (298, 'AJ574927', datetime.date(2004, 3, 13), Decimal('47375.92')), (298, 'LF501133', datetime.date(2004, 9, 18), Decimal('61402.00')), (299, 'AD304085', datetime.date(2003, 10, 24), Decimal('36798.88')), (299, 'NR157385', datetime.date(2004, 9, 5), Decimal('32260.16')), (311, 'DG336041', datetime.date(2005, 2, 15), Decimal('46770.52')), (311, 'FA728475', datetime.date(2003, 10, 6), Decimal('32723.04')), (311, 'NQ966143', datetime.date(2004, 4, 25), Decimal('16212.59')), (314, 'LQ244073', datetime.date(2004, 8, 9), Decimal('45352.47')), (314, 'MD809704', datetime.date(2004, 3, 3), Decimal('16901.38')), (319, 'HL685576', datetime.date(2004, 11, 6), Decimal('42339.76')), (319, 'OM548174', datetime.date(2003, 12, 7), Decimal('36092.40')), (320, 'GJ597719', datetime.date(2005, 1, 18), Decimal('8307.28')), (320, 'HO576374', datetime.date(2003, 8, 20), Decimal('41016.75')), (320, 'MU817160', datetime.date(2003, 11, 24), Decimal('52548.49')), (321, 'DJ15149', datetime.date(2003, 11, 3), Decimal('85559.12')), (321, 'LA556321', datetime.date(2005, 3, 15), Decimal('46781.66')), (323, 'AL493079', datetime.date(2005, 5, 23), Decimal('75020.13')), (323, 'ES347491', datetime.date(2004, 6, 24), Decimal('37281.36')), (323, 'HG738664', datetime.date(2003, 7, 5), Decimal('2880.00')), (323, 'PQ803830', datetime.date(2004, 12, 24), Decimal('39440.59')), (324, 'DQ409197', datetime.date(2004, 12, 13), Decimal('13671.82')), (324, 'FP443161', datetime.date(2003, 7, 7), Decimal('29429.14')), (324, 'HB150714', datetime.date(2003, 11, 23), Decimal('37455.77')), (328, 'EN930356', datetime.date(2004, 4, 16), Decimal('7178.66')), (328, 'NR631421', datetime.date(2004, 5, 30), Decimal('31102.85')), (333, 'HL209210', datetime.date(2003, 11, 15), Decimal('23936.53')), (333, 'JK479662', datetime.date(2003, 10, 17), Decimal('9821.32')), (333, 'NF959653', datetime.date(2005, 3, 1), Decimal('21432.31')), (334, 'CS435306', datetime.date(2005, 1, 27), Decimal('45785.34')), (334, 'HH517378', datetime.date(2003, 8, 16), Decimal('29716.86')), (334, 'LF737277', datetime.date(2004, 5, 22), Decimal('28394.54')), (339, 'AP286625', datetime.date(2004, 10, 24), Decimal('23333.06')), (339, 'DA98827', datetime.date(2003, 11, 28), Decimal('34606.28')), (344, 'AF246722', datetime.date(2003, 11, 24), Decimal('31428.21')), (344, 'NJ906924', datetime.date(2004, 4, 2), Decimal('15322.93')), (347, 'DG700707', datetime.date(2004, 1, 18), Decimal('21053.69')), (347, 'LG808674', datetime.date(2003, 10, 24), Decimal('20452.50')), (350, 'BQ602907', datetime.date(2004, 12, 11), Decimal('18888.31')), (350, 'CI471510', datetime.date(2003, 5, 25), Decimal('50824.66')), (350, 'OB648482', datetime.date(2005, 1, 29), Decimal('1834.56')), (353, 'CO351193', datetime.date(2005, 1, 10), Decimal('49705.52')), (353, 'ED878227', datetime.date(2003, 7, 21), Decimal('13920.26')), (353, 'GT878649', datetime.date(2003, 5, 21), Decimal('16700.47')), (353, 'HJ618252', datetime.date(2005, 6, 9), Decimal('46656.94')), (357, 'AG240323', datetime.date(2003, 12, 16), Decimal('20220.04')), (357, 'NB291497', datetime.date(2004, 5, 15), Decimal('36442.34')), (362, 'FP170292', datetime.date(2004, 7, 11), Decimal('18473.71')), (362, 'OG208861', datetime.date(2004, 9, 21), Decimal('15059.76')), (363, 'HL575273', datetime.date(2004, 11, 17), Decimal('50799.69')), (363, 'IS232033', datetime.date(2003, 1, 16), Decimal('10223.83')), (363, 'PN238558', datetime.date(2003, 12, 5), Decimal('55425.77')), (379, 'CA762595', datetime.date(2005, 2, 12), Decimal('28322.83')), (379, 'FR499138', datetime.date(2003, 9, 16), Decimal('32680.31')), (379, 'GB890854', datetime.date(2004, 8, 2), Decimal('12530.51')), (381, 'BC726082', datetime.date(2004, 12, 3), Decimal('12081.52')), (381, 'CC475233', datetime.date(2003, 4, 19), Decimal('1627.56')), (381, 'GB117430', datetime.date(2005, 2, 3), Decimal('14379.90')), (381, 'MS154481', datetime.date(2003, 8, 22), Decimal('1128.20')), (382, 'CC871084', datetime.date(2003, 5, 12), Decimal('35826.33')), (382, 'CT821147', datetime.date(2004, 8, 1), Decimal('6419.84')), (382, 'PH29054', datetime.date(2004, 11, 27), Decimal('42813.83')), (386, 'DO106109', datetime.date(2003, 11, 18), Decimal('38524.29')), (386, 'HG438769', datetime.date(2004, 7, 18), Decimal('51619.02')), (406, 'BJMPR4545', datetime.date(2005, 4, 23), Decimal('12190.85')), (406, 'HJ217687', datetime.date(2004, 1, 28), Decimal('49165.16')), (406, 'NA197101', datetime.date(2004, 6, 17), Decimal('25080.96')), (412, 'GH197075', datetime.date(2004, 7, 25), Decimal('35034.57')), (412, 'PJ434867', datetime.date(2004, 4, 14), Decimal('31670.37')), (415, 'ER54537', datetime.date(2004, 9, 28), Decimal('31310.09')), (424, 'KF480160', datetime.date(2004, 12, 7), Decimal('25505.98')), (424, 'LM271923', datetime.date(2003, 4, 16), Decimal('21665.98')), (424, 'OA595449', datetime.date(2003, 10, 31), Decimal('22042.37')), (447, 'AO757239', datetime.date(2003, 9, 15), Decimal('6631.36')), (447, 'ER615123', datetime.date(2003, 6, 25), Decimal('17032.29')), (447, 'OU516561', datetime.date(2004, 12, 17), Decimal('26304.13')), (448, 'FS299615', datetime.date(2005, 4, 18), Decimal('27966.54')), (448, 'KR822727', datetime.date(2004, 9, 30), Decimal('48809.90')), (450, 'EF485824', datetime.date(2004, 6, 21), Decimal('59551.38')), (452, 'ED473873', datetime.date(2003, 11, 15), Decimal('27121.90')), (452, 'FN640986', datetime.date(2003, 11, 20), Decimal('15130.97')), (452, 'HG635467', datetime.date(2005, 5, 3), Decimal('8807.12')), (455, 'HA777606', datetime.date(2003, 12, 5), Decimal('38139.18')), (455, 'IR662429', datetime.date(2004, 5, 12), Decimal('32239.47')), (456, 'GJ715659', datetime.date(2004, 11, 13), Decimal('27550.51')), (456, 'MO743231', datetime.date(2004, 4, 30), Decimal('1679.92')), (458, 'DD995006', datetime.date(2004, 11, 15), Decimal('33145.56')), (458, 'NA377824', datetime.date(2004, 2, 6), Decimal('22162.61')), (458, 'OO606861', datetime.date(2003, 6, 13), Decimal('57131.92')), (462, 'ED203908', datetime.date(2005, 4, 15), Decimal('30293.77')), (462, 'GC60330', datetime.date(2003, 11, 8), Decimal('9977.85')), (462, 'PE176846', datetime.date(2004, 11, 27), Decimal('48355.87')), (471, 'AB661578', datetime.date(2004, 7, 28), Decimal('9415.13')), (471, 'CO645196', datetime.date(2003, 12, 10), Decimal('35505.63')), (473, 'LL427009', datetime.date(2004, 2, 17), Decimal('7612.06')), (473, 'PC688499', datetime.date(2003, 10, 27), Decimal('17746.26')), (475, 'JP113227', datetime.date(2003, 12, 9), Decimal('7678.25')), (475, 'PB951268', datetime.date(2004, 2, 13), Decimal('36070.47')), (484, 'GK294076', datetime.date(2004, 10, 26), Decimal('3474.66')), (484, 'JH546765', datetime.date(2003, 11, 29), Decimal('47513.19')), (486, 'BL66528', datetime.date(2004, 4, 14), Decimal('5899.38')), (486, 'HS86661', datetime.date(2004, 11, 23), Decimal('45994.07')), (486, 'JB117768', datetime.date(2003, 3, 20), Decimal('25833.14')), (487, 'AH612904', datetime.date(2003, 9, 28), Decimal('29997.09')), (487, 'PT550181', datetime.date(2004, 2, 29), Decimal('12573.28')), (489, 'OC773849', datetime.date(2003, 12, 4), Decimal('22275.73')), (489, 'PO860906', datetime.date(2004, 1, 31), Decimal('7310.42')), (495, 'BH167026', datetime.date(2003, 12, 26), Decimal('59265.14')), (495, 'FN155234', datetime.date(2004, 5, 14), Decimal('6276.60')), (496, 'EU531600', datetime.date(2005, 5, 25), Decimal('30253.75')), (496, 'MB342426', datetime.date(2003, 7, 16), Decimal('32077.44')), (496, 'MN89921', datetime.date(2004, 12, 31), Decimal('52166.00'))]\n"
     ]
    }
   ],
   "source": [
    "import psycopg2\n",
    "\n",
    "import db_client as msm\n",
    "\n",
    "PGHOST= 'ep-billowing-dawn-a95row8d.gwc.azure.neon.tech'\n",
    "PGDATABASE= 'DATAFUNDAMENTALS'\n",
    "PGUSER='DATAFUNDAMENTALS_owner'\n",
    "PGPASSWORD= 'IPKFE15iJuOH' \n",
    "\n",
    "# Una conexión para todo el programa\n",
    "conn = msm.create_server_connection(PGHOST, PGDATABASE, PGUSER, PGPASSWORD)\n",
    "\n",
    "def pagos_mayores_a(valor):\n",
    "\n",
    "    cur = None\n",
    "\n",
    "    data = None\n",
    "\n",
    "    SQL = 'SELECT * FROM payments WHERE amount > ' + str(valor)\n",
    "    print('SQL:', SQL)\n",
    "\n",
    "    try:\n",
    "        cur = conn.cursor()\n",
    "        cur.execute(SQL)\n",
    "        data = cur.fetchall()\n",
    "    except Exception as err:\n",
    "        print(f\"Error: '{err}'\")\n",
    "    finally:\n",
    "        if cur:\n",
    "            cur.close()\n",
    "\n",
    "    return data\n",
    "\n",
    "\n",
    "resultado = pagos_mayores_a(100)\n",
    "print(resultado)"
   ]
  }
 ],
 "metadata": {
  "kernelspec": {
   "display_name": "Python 3.8 - AzureML",
   "language": "python",
   "name": "python38-azureml"
  },
  "language_info": {
   "codemirror_mode": {
    "name": "ipython",
    "version": 3
   },
   "file_extension": ".py",
   "mimetype": "text/x-python",
   "name": "python",
   "nbconvert_exporter": "python",
   "pygments_lexer": "ipython3",
   "version": "3.10.11"
  }
 },
 "nbformat": 4,
 "nbformat_minor": 2
}
