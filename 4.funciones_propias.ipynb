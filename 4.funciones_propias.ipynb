{
 "cells": [
  {
   "cell_type": "code",
   "execution_count": 3,
   "metadata": {},
   "outputs": [
    {
     "data": {
      "text/plain": [
       "3.141592653589793"
      ]
     },
     "execution_count": 3,
     "metadata": {},
     "output_type": "execute_result"
    }
   ],
   "source": [
    "import math\n",
    "math.pi\n"
   ]
  },
  {
   "cell_type": "code",
   "execution_count": 5,
   "metadata": {},
   "outputs": [
    {
     "name": "stdout",
     "output_type": "stream",
     "text": [
      "3.141592653589793\n",
      "nan\n"
     ]
    }
   ],
   "source": [
    "from math import pi,nan,sin\n",
    "print(pi)\n",
    "print(nan)"
   ]
  },
  {
   "cell_type": "code",
   "execution_count": 13,
   "metadata": {},
   "outputs": [
    {
     "name": "stdout",
     "output_type": "stream",
     "text": [
      "[1, 2, 3, 4, 5, 6, 7, 8, 9, 10, 11, 12, 13, 14, 15, 16, 17, 18, 19, 20, 21, 22, 23, 24, 25, 26, 27, 28, 29, 30, 31, 32, 33, 34, 35, 36, 37, 38, 39, 40, 41, 42, 43, 44, 45, 46, 47, 48, 49, 50, 51, 52, 53, 54, 55, 56, 57, 58, 59, 60, 61, 62, 63, 64, 65, 66, 67, 68, 69, 70, 71, 72, 73, 74, 75, 76, 77, 78, 79, 80, 81, 82, 83, 84, 85, 86, 87, 88, 89, 90, 91, 92, 93, 94, 95, 96, 97, 98, 99]\n",
      "50\n",
      "28.722813232690143\n"
     ]
    }
   ],
   "source": [
    "import statistics as st #doy un alias un sobrenombre de la libreria para pdoer llamarla de \n",
    "#forma mas sencilla\n",
    "#recomendable solo usar las variables de la libreria que vayamos a usar para aligerar el programa\n",
    "nums = list(range(1,100))\n",
    "print(nums)\n",
    "m = st.median(nums)\n",
    "sd= st.stdev(nums)\n",
    "print(m)\n",
    "print(sd)\n"
   ]
  },
  {
   "cell_type": "code",
   "execution_count": 14,
   "metadata": {},
   "outputs": [],
   "source": [
    "texto=\"\"\"Este es un texto\n",
    "que contiene\n",
    "múltiples líneas\n",
    "\"\"\"\n",
    "fobj_out = open(\"sample.txt\",\"w\")\n",
    "fobj_out.write(texto)\n",
    "fobj_out.close() # Cerrar el fichero"
   ]
  },
  {
   "cell_type": "markdown",
   "metadata": {},
   "source": [
    "CREAR LA RUTA"
   ]
  },
  {
   "cell_type": "code",
   "execution_count": 23,
   "metadata": {},
   "outputs": [
    {
     "name": "stdout",
     "output_type": "stream",
     "text": [
      "/mnt/batch/tasks/shared/LS_root/mounts/clusters/hugo-rodriguez-gonzalez/code/Users/hurogon.ttazu/workspace/testpseudo_pub/testpseudo_pub/files\n",
      "/mnt/batch/tasks/shared/LS_root/mounts/clusters/hugo-rodriguez-gonzalez/code/Users/hurogon.ttazu/workspace/testpseudo_pub/testpseudo_pub/files/samples.txt\n"
     ]
    }
   ],
   "source": [
    "import os\n",
    "dir_path = os.path.realpath('/home/azureuser/cloudfiles/code/Users/hurogon.ttazu/workspace/testpseudo_pub/testpseudo_pub/files')\n",
    "print(dir_path)\n",
    "f_path = dir_path + '/samples.txt'\n",
    "print(f_path)"
   ]
  },
  {
   "cell_type": "markdown",
   "metadata": {},
   "source": [
    "CREAR ARCHIVO_ESCRIBIR/CERRAR"
   ]
  },
  {
   "cell_type": "code",
   "execution_count": 30,
   "metadata": {},
   "outputs": [],
   "source": [
    "\n",
    "texto=\"\"\"tercera \n",
    "prueba\n",
    "\"\"\"\n",
    "fout = open(f_path,'w')\n",
    "type(fout)\n",
    "fout.write(texto)\n",
    "fout.close()\n"
   ]
  },
  {
   "cell_type": "markdown",
   "metadata": {},
   "source": [
    "BORRADO DE ARCHIVOS"
   ]
  },
  {
   "cell_type": "code",
   "execution_count": 31,
   "metadata": {},
   "outputs": [
    {
     "name": "stdout",
     "output_type": "stream",
     "text": [
      "borrado\n"
     ]
    }
   ],
   "source": [
    "#libreria os representa al sistema operativo\n",
    "import os\n",
    "isOk = os.path.isfile(f_path)\n",
    "if isOk:\n",
    "    os.remove(f_path)\n",
    "    print('borrado')\n",
    "else:\n",
    "    print('no existe')"
   ]
  }
 ],
 "metadata": {
  "kernelspec": {
   "display_name": "Python 3.10 - SDK v2",
   "language": "python",
   "name": "python310-sdkv2"
  },
  "language_info": {
   "codemirror_mode": {
    "name": "ipython",
    "version": 3
   },
   "file_extension": ".py",
   "mimetype": "text/x-python",
   "name": "python",
   "nbconvert_exporter": "python",
   "pygments_lexer": "ipython3",
   "version": "3.10.14"
  }
 },
 "nbformat": 4,
 "nbformat_minor": 2
}
